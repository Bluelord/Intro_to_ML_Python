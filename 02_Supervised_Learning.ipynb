{
  "nbformat": 4,
  "nbformat_minor": 0,
  "metadata": {
    "colab": {
      "name": "02_Supervised_Learning.ipynb",
      "provenance": [],
      "collapsed_sections": [],
      "authorship_tag": "ABX9TyPJ7M9iZc6o9qRWT1FFmzJL",
      "include_colab_link": true
    },
    "kernelspec": {
      "name": "python3",
      "display_name": "Python 3"
    }
  },
  "cells": [
    {
      "cell_type": "markdown",
      "metadata": {
        "id": "view-in-github",
        "colab_type": "text"
      },
      "source": [
        "<a href=\"https://colab.research.google.com/github/Bluelord/Intro_to_ML_Python_Notes/blob/master/02_Supervised_Learning.ipynb\" target=\"_parent\"><img src=\"https://colab.research.google.com/assets/colab-badge.svg\" alt=\"Open In Colab\"/></a>"
      ]
    },
    {
      "cell_type": "markdown",
      "metadata": {
        "id": "Yon3htzyRDan"
      },
      "source": [
        "# **Supervised Learning**\n",
        "\n",
        "\n",
        "---\n",
        "\n",
        "\n",
        "\n",
        "---\n",
        "\n"
      ]
    },
    {
      "cell_type": "markdown",
      "metadata": {
        "id": "bX1Evx1QRn6e"
      },
      "source": [
        "**Classification and Regression**\n",
        "\n",
        "In classification, the goal is to predict a class label, which is a choice from a predefined list of classes. In same cases we have to distinguish between exactly two classes may called as binary classification, and cases in which the classification is done between more than two classes is called as multiclass\n",
        "classification.\n",
        "\n",
        "For regression tasks, the goal is to predict a continuous number, or a floating-point number. An easy way to distinguish between classification and regression tasks is to find whether there is some kind of continuity in the output. If there is continuity between possible outcomes, then the problem is a regression problem."
      ]
    },
    {
      "cell_type": "markdown",
      "metadata": {
        "id": "okquXHYWTLGW"
      },
      "source": [
        "**Generalization, Overfitting, and Underfitting**\n",
        "\n",
        "In supervised learning, a model will be build on the training data and then be\n",
        "able to make accurate predictions on new, which has the same characteristics (features) as the training set. If our model make accurate predictions on\n",
        "unseen data, we say it as *generalized model*.\n",
        "\n",
        "If the training and test sets have enough in common, the model will be accurate on the test set too. In some cases this may go wrong, if we allow ourselves to build very complex models, we can always be as accurate as we like on the training set (overfitting).\n",
        "*   Building complex model for the amount of information may lead to **Overfitting**, this occurs when you fit a model too closely to the training set and the model that works well on the training set but is not able to generalize to new data.\n",
        "*   If your model is too simple then you might not be able to capture all the aspects of our data, and our model will do badly even on the training set, this model is called underfitting.\n",
        "\n",
        "![](./Images/Tradeoff_model_complexity_vs_training_test_acc.JPG)\n",
        "\n",
        "Above figure shows the trade-off betweem overfitting and underfitting, if our model become too complex, it focused on individual data points in training test and our model is not generalized. the spot where we can get best generalization for our model is somewhere in between and this is the model we want to find while building the model. \n",
        "\n",
        "**Relation of Model Complexity to Dataset Size**\n",
        "\n",
        "If our dataset has large variety of data points, the more complex model can be usded without overfitting, this can be done by collecting more data. However, simply duplicating the same data points or collecting very similar data will not help.\n"
      ]
    },
    {
      "cell_type": "code",
      "metadata": {
        "id": "x4WCxlY5A4Wx"
      },
      "source": [
        "pip install mglearn"
      ],
      "execution_count": null,
      "outputs": []
    },
    {
      "cell_type": "code",
      "metadata": {
        "id": "qtkFP49aAPDz"
      },
      "source": [
        "# Importing Libraries\n",
        "import numpy as np\n",
        "import matplotlib.pyplot as plt\n",
        "import pandas as pd\n",
        "import \n",
        "import mglearn"
      ],
      "execution_count": 3,
      "outputs": []
    },
    {
      "cell_type": "markdown",
      "metadata": {
        "id": "JFGlMxwq3JAk"
      },
      "source": [
        "## **Supervised Machine Learning Algorithms**\n",
        "\n",
        "---\n",
        "\n"
      ]
    },
    {
      "cell_type": "code",
      "metadata": {
        "id": "dCVkuJhQQ367",
        "outputId": "83ac64c8-2937-4612-b5e6-3317e918f57a",
        "colab": {
          "base_uri": "https://localhost:8080/",
          "height": 347
        }
      },
      "source": [
        "# Generate dataset for classification\n",
        "from sklearn.datasets import make_blobs\n",
        "X, y = make_blobs(n_samples=100, centers=2, n_features=2,random_state=0)\n",
        "print(\"Shape of Dataset: \\n{}\\n\" .format(X.shape))\n",
        "# Plotting \n",
        "fig, ax = plt.subplots()\n",
        "color= ['red' if y == 0 else 'green' for y in y]\n",
        "ax.scatter(X[:,0], X[:,1], marker= 'o', color=color, label='Class 0' )\n",
        "ax.scatter(X[:,0], X[:,1], marker= 'v', color=color, label='Class 1')\n",
        "ax.legend(loc=0)\n",
        "ax.set_title('Scatter plot of the forge dataset', fontsize=12)\n",
        "ax.set_xlabel('Feature_1')\n",
        "ax.set_ylabel('Feature_2')\n",
        "plt.show()"
      ],
      "execution_count": 58,
      "outputs": [
        {
          "output_type": "stream",
          "text": [
            "Shape of Dataset: \n",
            "(100, 2)\n",
            "\n"
          ],
          "name": "stdout"
        },
        {
          "output_type": "display_data",
          "data": {
            "image/png": "[encoded data removed]",
            "text/plain": [
              "<Figure size 432x288 with 1 Axes>"
            ]
          },
          "metadata": {
            "tags": [],
            "needs_background": "light"
          }
        }
      ]
    },
    {
      "cell_type": "code",
      "metadata": {
        "id": "u7CYuX3aDMDU",
        "outputId": "05be7a40-deeb-4432-a69d-1bbd8976f443",
        "colab": {
          "base_uri": "https://localhost:8080/",
          "height": 346
        }
      },
      "source": [
        "# Generate dataset for Regrassion\n",
        "from sklearn.datasets import make_regression\n",
        "X, y = make_regression(n_samples=50, n_features=1 ,random_state=42, noise=7)\n",
        "print(\"Shape of Dataset: \\n{}\\n\" .format(X.shape))\n",
        "# Plotting \n",
        "fig, ax = plt.subplots()\n",
        "ax.scatter(X, y, marker= 'o', color='r' )\n",
        "ax.set_title('Scatter plot regression dataset', fontsize=12)\n",
        "ax.set_xlabel('Feature')\n",
        "ax.set_ylabel('Target')\n",
        "plt.show()"
      ],
      "execution_count": 59,
      "outputs": [
        {
          "output_type": "stream",
          "text": [
            "Shape of Dataset: \n",
            "(50, 1)\n",
            "\n"
          ],
          "name": "stdout"
        },
        {
          "output_type": "display_data",
          "data": {
            "image/png": "[encoded data removed]",
            "text/plain": [
              "<Figure size 432x288 with 1 Axes>"
            ]
          },
          "metadata": {
            "tags": [],
            "needs_background": "light"
          }
        }
      ]
    },
    {
      "cell_type": "markdown",
      "metadata": {
        "id": "mT5exlcoR3kk"
      },
      "source": [
        "Now we will be using real-world classification data from sklearn, which is **Wisconsin Breast Cancer dataset**. In this dataset each record is labeled as “benign” (harmless tumors) or “malignant” (cancerous tumors). It has 569 samples and 30 features, the dataset is stored with the keys (important features) and all the description. "
      ]
    },
    {
      "cell_type": "code",
      "metadata": {
        "id": "2VbJFeVmJDIo",
        "outputId": "0953a75e-d6e4-4ff3-e660-6060f369b594",
        "colab": {
          "base_uri": "https://localhost:8080/",
          "height": 357
        }
      },
      "source": [
        "from sklearn.datasets import load_breast_cancer\n",
        "cancer = load_breast_cancer()\n",
        "print(\"cancer.keys(): \\n{}\\n\".format(cancer.keys()))                              # This Will provides us with keys feature names\n",
        "print(\"Shape of cancer data: \\n{}\\n\".format(cancer.data.shape))                     # Gives Shape of our dataset\n",
        "print(\"Sample counts per class:\\n{}\\n\".format(                                    # For Counting the Classes,\n",
        "    {n: v for n, v in zip(cancer.target_names, np.bincount(cancer.target))}))   # Later groupby function will be used to do so\n",
        "print(\"Feature names:\\n{}\\n\".format(cancer.feature_names))                        # All the available Features "
      ],
      "execution_count": 61,
      "outputs": [
        {
          "output_type": "stream",
          "text": [
            "cancer.keys(): \n",
            "dict_keys(['data', 'target', 'target_names', 'DESCR', 'feature_names', 'filename'])\n",
            "\n",
            "Shape of cancer data: \n",
            "(569, 30)\n",
            "\n",
            "Sample counts per class:\n",
            "{'malignant': 212, 'benign': 357}\n",
            "\n",
            "Feature names:\n",
            "['mean radius' 'mean texture' 'mean perimeter' 'mean area'\n",
            " 'mean smoothness' 'mean compactness' 'mean concavity'\n",
            " 'mean concave points' 'mean symmetry' 'mean fractal dimension'\n",
            " 'radius error' 'texture error' 'perimeter error' 'area error'\n",
            " 'smoothness error' 'compactness error' 'concavity error'\n",
            " 'concave points error' 'symmetry error' 'fractal dimension error'\n",
            " 'worst radius' 'worst texture' 'worst perimeter' 'worst area'\n",
            " 'worst smoothness' 'worst compactness' 'worst concavity'\n",
            " 'worst concave points' 'worst symmetry' 'worst fractal dimension']\n",
            "\n"
          ],
          "name": "stdout"
        }
      ]
    },
    {
      "cell_type": "markdown",
      "metadata": {
        "id": "BiVA2vV8UPCa"
      },
      "source": [
        "Now viewing the real-world regression dataset, which is **Boston Housing dataset**, we can actually expand this dataset by not only with the given 13 features, but also looking at all products between features, hese is called *feature engineering*."
      ]
    },
    {
      "cell_type": "code",
      "metadata": {
        "id": "dBRuzfw6Tk8f",
        "outputId": "7ce78595-a002-4d9f-8a72-3b9329faecd8",
        "colab": {
          "base_uri": "https://localhost:8080/",
          "height": 34
        }
      },
      "source": [
        "from sklearn.datasets import load_boston\n",
        "boston = load_boston()\n",
        "print(\"Data shape: {}\".format(boston.data.shape))"
      ],
      "execution_count": 62,
      "outputs": [
        {
          "output_type": "stream",
          "text": [
            "Data shape: (506, 13)\n"
          ],
          "name": "stdout"
        }
      ]
    },
    {
      "cell_type": "markdown",
      "metadata": {
        "id": "AGm8UgP1XovB"
      },
      "source": [
        "## **k-Nearest Neighbors**\n",
        "---\n",
        "\n",
        "\n"
      ]
    },
    {
      "cell_type": "markdown",
      "metadata": {
        "id": "Dj-lprS8Xziw"
      },
      "source": [
        "### **k-Neighbors classificatio**\n"
      ]
    },
    {
      "cell_type": "code",
      "metadata": {
        "id": "T0TyOp2LXneN"
      },
      "source": [
        ""
      ],
      "execution_count": null,
      "outputs": []
    }
  ]
}