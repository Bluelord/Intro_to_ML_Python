{
  "nbformat": 4,
  "nbformat_minor": 0,
  "metadata": {
    "colab": {
      "name": "02_Supervised_Learning.ipynb",
      "provenance": [],
      "collapsed_sections": [],
      "authorship_tag": "ABX9TyPKMrxrxIiqOoFKJ0D7wp+w",
      "include_colab_link": true
    },
    "kernelspec": {
      "name": "python3",
      "display_name": "Python 3"
    }
  },
  "cells": [
    {
      "cell_type": "markdown",
      "metadata": {
        "id": "view-in-github",
        "colab_type": "text"
      },
      "source": [
        "<a href=\"https://colab.research.google.com/github/Bluelord/Intro_to_ML_Python_Notes/blob/master/02_Supervised_Learning.ipynb\" target=\"_parent\"><img src=\"https://colab.research.google.com/assets/colab-badge.svg\" alt=\"Open In Colab\"/></a>"
      ]
    },
    {
      "cell_type": "markdown",
      "metadata": {
        "id": "Yon3htzyRDan"
      },
      "source": [
        "# **Supervised Learning**\n",
        "\n",
        "\n",
        "---\n",
        "\n",
        "\n",
        "\n",
        "---\n",
        "\n"
      ]
    },
    {
      "cell_type": "markdown",
      "metadata": {
        "id": "bX1Evx1QRn6e"
      },
      "source": [
        "**Classification and Regression**\n",
        "\n",
        "In classification, the goal is to predict a class label, which is a choice from a predefined list of classes. In same cases we have to distinguish between exactly two classes may called as binary classification, and cases in which the classification is done between more than two classes is called as multiclass\n",
        "classification.\n",
        "\n",
        "For regression tasks, the goal is to predict a continuous number, or a floating-point number. An easy way to distinguish between classification and regression tasks is to find whether there is some kind of continuity in the output. If there is continuity between possible outcomes, then the problem is a regression problem."
      ]
    },
    {
      "cell_type": "markdown",
      "metadata": {
        "id": "okquXHYWTLGW"
      },
      "source": [
        "**Generalization, Overfitting, and Underfitting**\n",
        "\n"
      ]
    },
    {
      "cell_type": "code",
      "metadata": {
        "id": "dCVkuJhQQ367"
      },
      "source": [
        ""
      ],
      "execution_count": null,
      "outputs": []
    }
  ]
}