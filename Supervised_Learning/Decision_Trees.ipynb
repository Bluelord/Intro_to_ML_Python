{
  "nbformat": 4,
  "nbformat_minor": 0,
  "metadata": {
    "colab": {
      "name": "Decision_Trees.ipynb",
      "provenance": [],
      "collapsed_sections": [],
      "authorship_tag": "ABX9TyM+Ro0kKilzBZOT0UveNvMu",
      "include_colab_link": true
    },
    "kernelspec": {
      "name": "python3",
      "display_name": "Python 3"
    },
    "language_info": {
      "name": "python"
    }
  },
  "cells": [
    {
      "cell_type": "markdown",
      "metadata": {
        "id": "view-in-github",
        "colab_type": "text"
      },
      "source": [
        "<a href=\"https://colab.research.google.com/github/Bluelord/Intro_to_ML_Python_Notes/blob/master/Supervised_Learning/Decision_Trees.ipynb\" target=\"_parent\"><img src=\"https://colab.research.google.com/assets/colab-badge.svg\" alt=\"Open In Colab\"/></a>"
      ]
    },
    {
      "cell_type": "markdown",
      "metadata": {
        "id": "ZtAyM7SjXt3b"
      },
      "source": [
        "# Decision Trees"
      ]
    },
    {
      "cell_type": "markdown",
      "metadata": {
        "id": "OH011LmOYdFB"
      },
      "source": [
        "Decision Tree are widly used models for classification and regeression tasks. They learn a hierarchy of if/else questions, leading to a decision. Each node in the tree represents a question and the end node called leaf cantains the answer."
      ]
    },
    {
      "cell_type": "markdown",
      "metadata": {
        "id": "vODJl5qSB-0O"
      },
      "source": [
        "### Building decision trees\n",
        "\n",
        "Learning a decision tree means learning the sequence of if/else questions that gets us to the true answer most quickly. To build a tree, the algorithm searches over all possible tests and finds the one that is most informative about the target variable. The top node, also called the root, represents the whole dataset. "
      ]
    },
    {
      "cell_type": "markdown",
      "metadata": {
        "id": "0I60mPNGDAWI"
      },
      "source": [
        "![](Supervised_Learning/Images/Decision_boundary_depth1.JPG)\n",
        "\n",
        "**Decision Tree with Depth 1.**\n",
        "\n",
        "![](Supervised_Learning/Images/Decision_boundary_depth2.JPG)\n",
        "\n",
        "**Decision Tree with Depth 2.**\n",
        "\n",
        "![](Supervised_Learning/Images/Decision_boundary_depth9.JPG)\n",
        "\n",
        "**Decision Tree with Depth 9.**\n"
      ]
    },
    {
      "cell_type": "markdown",
      "metadata": {
        "id": "0jY-cUsTEe5R"
      },
      "source": [
        "This recursive process yields a binary tree of decisions, with each node containing a test. Alternatively, you can think of each test as splitting the part of the data that is currently being considered along one axis. The recursive partitioning of the data is repeated until each region in the partition (each leaf in the decision tree) only contains a single target value (a single class or a single regression value).\n",
        "\n",
        "A prediction on a new data point is made by checking which region of the partition of the feature space the point lies in, and then predicting the majority target. It is also possible to use trees for regression tasks to find\n",
        "the leaf the new data point falls into. The output for this data point is the mean target of the training points in this leaf."
      ]
    },
    {
      "cell_type": "markdown",
      "metadata": {
        "id": "j1PSTsJHFGc3"
      },
      "source": [
        "### Controlling complexity of decision trees\n",
        "\n",
        "Building a tree as described above and continuing until all leaves are pure\n",
        "leads to models that are very complex, lead to overfitting to the training data, this pure leaves mean that a tree is 100% accurate on the training set.\n",
        "The overfitting can be seen in the decision tree with the depth 9, in that we can see the regions determined to belong to class 1 in the middle of all the points belonging to class 0.\n",
        "\n",
        "There are two common strategies to prevent overfitting:\n",
        "*   Stopping the creation of the tree early (pre-pruning)\n",
        "*   Building the tree but then removing nodes that contain little information (post-pruning)\n",
        "\n",
        "Possible criteria for pre-pruning include limiting the maximum depth of the tree, limiting the maximum number of leaves."
      ]
    },
    {
      "cell_type": "code",
      "metadata": {
        "id": "IZnv0ePrXklm",
        "colab": {
          "base_uri": "https://localhost:8080/"
        },
        "outputId": "a38671fd-5e48-4b9f-c735-6043ebbfbf42"
      },
      "source": [
        "import pandas as pd\n",
        "import numpy as np\n",
        "import matplotlib.pyplot as plt\n",
        "from sklearn.datasets import load_breast_cancer\n",
        "from sklearn.model_selection import train_test_split\n",
        "from sklearn.tree import DecisionTreeClassifier\n",
        "\n",
        "X, y = load_breast_cancer(return_X_y=True)\n",
        "X_train, X_test, y_train, y_test = train_test_split(X, y, stratify = y, random_state=25)\n",
        "tree = DecisionTreeClassifier(random_state=0)\n",
        "tree.fit(X_train, y_train)\n",
        "\n",
        "print(\"Accuracy on training set: {: .3f}\" .format(\n",
        "    tree.score(X_train, y_train)))\n",
        "print(\"Accuracy on testing set: {: .3f}\" .format(\n",
        "    tree.score(X_test, y_test)))"
      ],
      "execution_count": null,
      "outputs": [
        {
          "output_type": "stream",
          "text": [
            "Accuracy on training set:  1.000\n",
            "Accuracy on testing set:  0.916\n"
          ],
          "name": "stdout"
        }
      ]
    },
    {
      "cell_type": "markdown",
      "metadata": {
        "id": "7LbGzxqzJHsh"
      },
      "source": [
        "The Accuracy for the training set is 100%, as the leaves are pure, if we don't restrict the depth of decision tree, the tree mostly becomes complex. Unpruned tree are prone to overfitting and does not generalize well on new data. "
      ]
    },
    {
      "cell_type": "code",
      "metadata": {
        "colab": {
          "base_uri": "https://localhost:8080/"
        },
        "id": "raVOa3FlHdJ7",
        "outputId": "a9219436-c0b4-42d9-aef3-7f270dc51e2a"
      },
      "source": [
        "# Now applying pre-pruning\n",
        "\n",
        "tree4 = DecisionTreeClassifier(max_depth=4, random_state=0)\n",
        "tree4.fit(X_train, y_train)\n",
        "\n",
        "print(\"Accuracy on training set: {:.3f}\".format(tree4.score(X_train, y_train)))\n",
        "print(\"Accuracy on test set: {:.3f}\".format(tree4.score(X_test, y_test)))"
      ],
      "execution_count": null,
      "outputs": [
        {
          "output_type": "stream",
          "text": [
            "Accuracy on training set: 0.988\n",
            "Accuracy on test set: 0.930\n"
          ],
          "name": "stdout"
        }
      ]
    },
    {
      "cell_type": "markdown",
      "metadata": {
        "id": "KO8h_TJ0KLaZ"
      },
      "source": [
        "### Analysing decision trees\n",
        "\n",
        "Visualizing of decision tree can be done with the help of export_graphviz"
      ]
    },
    {
      "cell_type": "code",
      "metadata": {
        "id": "fcQhwKXEJ4Oz"
      },
      "source": [
        "from sklearn.tree import export_graphviz\n",
        "\n",
        "export_graphviz(tree4, out_file=\"tree.dot\", class_names=[\"malignant\", \"benign\"], \n",
        "                feature_names= load_breast_cancer().feature_names, impurity=False, filled=True)"
      ],
      "execution_count": null,
      "outputs": []
    },
    {
      "cell_type": "code",
      "metadata": {
        "colab": {
          "base_uri": "https://localhost:8080/",
          "height": 657
        },
        "id": "CQTAUk-PKqM3",
        "outputId": "b9afa219-ce9b-41ba-eed6-c156b8e3a361"
      },
      "source": [
        "import graphviz\n",
        "\n",
        "with open(\"tree.dot\") as f:\n",
        "  dot_graph = f.read()\n",
        "  \n",
        "graphviz.Source(dot_graph)"
      ],
      "execution_count": null,
      "outputs": [
        {
          "output_type": "execute_result",
          "data": {
            "text/plain": [
              "<graphviz.files.Source at 0x7fd1a94372d0>"
            ],
            "image/svg+xml": "<?xml version=\"1.0\" encoding=\"UTF-8\" standalone=\"no\"?>\n<!DOCTYPE svg PUBLIC \"-//W3C//DTD SVG 1.1//EN\"\n \"http://www.w3.org/Graphics/SVG/1.1/DTD/svg11.dtd\">\n<!-- Generated by graphviz version 2.40.1 (20161225.0304)\n -->\n<!-- Title: Tree Pages: 1 -->\n<svg width=\"1484pt\" height=\"477pt\"\n viewBox=\"0.00 0.00 1484.00 477.00\" xmlns=\"http://www.w3.org/2000/svg\" xmlns:xlink=\"http://www.w3.org/1999/xlink\">\n<g id=\"graph0\" class=\"graph\" transform=\"scale(1 1) rotate(0) translate(4 473)\">\n<title>Tree</title>\n<polygon fill=\"#ffffff\" stroke=\"transparent\" points=\"-4,4 -4,-473 1480,-473 1480,4 -4,4\"/>\n<!-- 0 -->\n<g id=\"node1\" class=\"node\">\n<title>0</title>\n<polygon fill=\"#afd7f4\" stroke=\"#000000\" points=\"858,-469 664,-469 664,-401 858,-401 858,-469\"/>\n<text text-anchor=\"middle\" x=\"761\" y=\"-453.8\" font-family=\"Times,serif\" font-size=\"14.00\" fill=\"#000000\">mean concave points &lt;= 0.051</text>\n<text text-anchor=\"middle\" x=\"761\" y=\"-438.8\" font-family=\"Times,serif\" font-size=\"14.00\" fill=\"#000000\">samples = 426</text>\n<text text-anchor=\"middle\" x=\"761\" y=\"-423.8\" font-family=\"Times,serif\" font-size=\"14.00\" fill=\"#000000\">value = [159, 267]</text>\n<text text-anchor=\"middle\" x=\"761\" y=\"-408.8\" font-family=\"Times,serif\" font-size=\"14.00\" fill=\"#000000\">class = benign</text>\n</g>\n<!-- 1 -->\n<g id=\"node2\" class=\"node\">\n<title>1</title>\n<polygon fill=\"#45a3e7\" stroke=\"#000000\" points=\"688,-365 544,-365 544,-297 688,-297 688,-365\"/>\n<text text-anchor=\"middle\" x=\"616\" y=\"-349.8\" font-family=\"Times,serif\" font-size=\"14.00\" fill=\"#000000\">worst radius &lt;= 16.83</text>\n<text text-anchor=\"middle\" x=\"616\" y=\"-334.8\" font-family=\"Times,serif\" font-size=\"14.00\" fill=\"#000000\">samples = 264</text>\n<text text-anchor=\"middle\" x=\"616\" y=\"-319.8\" font-family=\"Times,serif\" font-size=\"14.00\" fill=\"#000000\">value = [15, 249]</text>\n<text text-anchor=\"middle\" x=\"616\" y=\"-304.8\" font-family=\"Times,serif\" font-size=\"14.00\" fill=\"#000000\">class = benign</text>\n</g>\n<!-- 0&#45;&gt;1 -->\n<g id=\"edge1\" class=\"edge\">\n<title>0&#45;&gt;1</title>\n<path fill=\"none\" stroke=\"#000000\" d=\"M713.5216,-400.9465C700.2523,-391.4293 685.7085,-380.9978 671.9965,-371.163\"/>\n<polygon fill=\"#000000\" stroke=\"#000000\" points=\"673.751,-368.1142 663.5851,-365.13 669.6712,-373.8024 673.751,-368.1142\"/>\n<text text-anchor=\"middle\" x=\"667.6469\" y=\"-386.0978\" font-family=\"Times,serif\" font-size=\"14.00\" fill=\"#000000\">True</text>\n</g>\n<!-- 14 -->\n<g id=\"node15\" class=\"node\">\n<title>14</title>\n<polygon fill=\"#e89152\" stroke=\"#000000\" points=\"985.5,-365 820.5,-365 820.5,-297 985.5,-297 985.5,-365\"/>\n<text text-anchor=\"middle\" x=\"903\" y=\"-349.8\" font-family=\"Times,serif\" font-size=\"14.00\" fill=\"#000000\">worst concavity &lt;= 0.225</text>\n<text text-anchor=\"middle\" x=\"903\" y=\"-334.8\" font-family=\"Times,serif\" font-size=\"14.00\" fill=\"#000000\">samples = 162</text>\n<text text-anchor=\"middle\" x=\"903\" y=\"-319.8\" font-family=\"Times,serif\" font-size=\"14.00\" fill=\"#000000\">value = [144, 18]</text>\n<text text-anchor=\"middle\" x=\"903\" y=\"-304.8\" font-family=\"Times,serif\" font-size=\"14.00\" fill=\"#000000\">class = malignant</text>\n</g>\n<!-- 0&#45;&gt;14 -->\n<g id=\"edge14\" class=\"edge\">\n<title>0&#45;&gt;14</title>\n<path fill=\"none\" stroke=\"#000000\" d=\"M807.4961,-400.9465C820.4908,-391.4293 834.7337,-380.9978 848.1621,-371.163\"/>\n<polygon fill=\"#000000\" stroke=\"#000000\" points=\"850.3998,-373.8624 856.3994,-365.13 846.2637,-368.2151 850.3998,-373.8624\"/>\n<text text-anchor=\"middle\" x=\"852.5829\" y=\"-386.137\" font-family=\"Times,serif\" font-size=\"14.00\" fill=\"#000000\">False</text>\n</g>\n<!-- 2 -->\n<g id=\"node3\" class=\"node\">\n<title>2</title>\n<polygon fill=\"#3d9fe6\" stroke=\"#000000\" points=\"430,-261 310,-261 310,-193 430,-193 430,-261\"/>\n<text text-anchor=\"middle\" x=\"370\" y=\"-245.8\" font-family=\"Times,serif\" font-size=\"14.00\" fill=\"#000000\">area error &lt;= 48.7</text>\n<text text-anchor=\"middle\" x=\"370\" y=\"-230.8\" font-family=\"Times,serif\" font-size=\"14.00\" fill=\"#000000\">samples = 246</text>\n<text text-anchor=\"middle\" x=\"370\" y=\"-215.8\" font-family=\"Times,serif\" font-size=\"14.00\" fill=\"#000000\">value = [5, 241]</text>\n<text text-anchor=\"middle\" x=\"370\" y=\"-200.8\" font-family=\"Times,serif\" font-size=\"14.00\" fill=\"#000000\">class = benign</text>\n</g>\n<!-- 1&#45;&gt;2 -->\n<g id=\"edge2\" class=\"edge\">\n<title>1&#45;&gt;2</title>\n<path fill=\"none\" stroke=\"#000000\" d=\"M543.8541,-300.4993C510.9501,-286.5887 472.1531,-270.1867 439.5669,-256.4104\"/>\n<polygon fill=\"#000000\" stroke=\"#000000\" points=\"440.6837,-253.0827 430.1101,-252.4124 437.9579,-259.5302 440.6837,-253.0827\"/>\n</g>\n<!-- 9 -->\n<g id=\"node10\" class=\"node\">\n<title>9</title>\n<polygon fill=\"#fae6d7\" stroke=\"#000000\" points=\"690,-261 542,-261 542,-193 690,-193 690,-261\"/>\n<text text-anchor=\"middle\" x=\"616\" y=\"-245.8\" font-family=\"Times,serif\" font-size=\"14.00\" fill=\"#000000\">mean texture &lt;= 19.83</text>\n<text text-anchor=\"middle\" x=\"616\" y=\"-230.8\" font-family=\"Times,serif\" font-size=\"14.00\" fill=\"#000000\">samples = 18</text>\n<text text-anchor=\"middle\" x=\"616\" y=\"-215.8\" font-family=\"Times,serif\" font-size=\"14.00\" fill=\"#000000\">value = [10, 8]</text>\n<text text-anchor=\"middle\" x=\"616\" y=\"-200.8\" font-family=\"Times,serif\" font-size=\"14.00\" fill=\"#000000\">class = malignant</text>\n</g>\n<!-- 1&#45;&gt;9 -->\n<g id=\"edge9\" class=\"edge\">\n<title>1&#45;&gt;9</title>\n<path fill=\"none\" stroke=\"#000000\" d=\"M616,-296.9465C616,-288.776 616,-279.9318 616,-271.3697\"/>\n<polygon fill=\"#000000\" stroke=\"#000000\" points=\"619.5001,-271.13 616,-261.13 612.5001,-271.13 619.5001,-271.13\"/>\n</g>\n<!-- 3 -->\n<g id=\"node4\" class=\"node\">\n<title>3</title>\n<polygon fill=\"#3b9ee5\" stroke=\"#000000\" points=\"271,-157 77,-157 77,-89 271,-89 271,-157\"/>\n<text text-anchor=\"middle\" x=\"174\" y=\"-141.8\" font-family=\"Times,serif\" font-size=\"14.00\" fill=\"#000000\">mean concave points &lt;= 0.049</text>\n<text text-anchor=\"middle\" x=\"174\" y=\"-126.8\" font-family=\"Times,serif\" font-size=\"14.00\" fill=\"#000000\">samples = 243</text>\n<text text-anchor=\"middle\" x=\"174\" y=\"-111.8\" font-family=\"Times,serif\" font-size=\"14.00\" fill=\"#000000\">value = [3, 240]</text>\n<text text-anchor=\"middle\" x=\"174\" y=\"-96.8\" font-family=\"Times,serif\" font-size=\"14.00\" fill=\"#000000\">class = benign</text>\n</g>\n<!-- 2&#45;&gt;3 -->\n<g id=\"edge3\" class=\"edge\">\n<title>2&#45;&gt;3</title>\n<path fill=\"none\" stroke=\"#000000\" d=\"M309.8615,-195.0898C290.0608,-184.5833 267.8232,-172.7837 247.1624,-161.8209\"/>\n<polygon fill=\"#000000\" stroke=\"#000000\" points=\"248.5808,-158.6113 238.1067,-157.0158 245.2997,-164.7947 248.5808,-158.6113\"/>\n</g>\n<!-- 6 -->\n<g id=\"node7\" class=\"node\">\n<title>6</title>\n<polygon fill=\"#f2c09c\" stroke=\"#000000\" points=\"451,-157 289,-157 289,-89 451,-89 451,-157\"/>\n<text text-anchor=\"middle\" x=\"370\" y=\"-141.8\" font-family=\"Times,serif\" font-size=\"14.00\" fill=\"#000000\">symmetry error &lt;= 0.025</text>\n<text text-anchor=\"middle\" x=\"370\" y=\"-126.8\" font-family=\"Times,serif\" font-size=\"14.00\" fill=\"#000000\">samples = 3</text>\n<text text-anchor=\"middle\" x=\"370\" y=\"-111.8\" font-family=\"Times,serif\" font-size=\"14.00\" fill=\"#000000\">value = [2, 1]</text>\n<text text-anchor=\"middle\" x=\"370\" y=\"-96.8\" font-family=\"Times,serif\" font-size=\"14.00\" fill=\"#000000\">class = malignant</text>\n</g>\n<!-- 2&#45;&gt;6 -->\n<g id=\"edge6\" class=\"edge\">\n<title>2&#45;&gt;6</title>\n<path fill=\"none\" stroke=\"#000000\" d=\"M370,-192.9465C370,-184.776 370,-175.9318 370,-167.3697\"/>\n<polygon fill=\"#000000\" stroke=\"#000000\" points=\"373.5001,-167.13 370,-157.13 366.5001,-167.13 373.5001,-167.13\"/>\n</g>\n<!-- 4 -->\n<g id=\"node5\" class=\"node\">\n<title>4</title>\n<polygon fill=\"#3a9de5\" stroke=\"#000000\" points=\"110,-53 0,-53 0,0 110,0 110,-53\"/>\n<text text-anchor=\"middle\" x=\"55\" y=\"-37.8\" font-family=\"Times,serif\" font-size=\"14.00\" fill=\"#000000\">samples = 238</text>\n<text text-anchor=\"middle\" x=\"55\" y=\"-22.8\" font-family=\"Times,serif\" font-size=\"14.00\" fill=\"#000000\">value = [1, 237]</text>\n<text text-anchor=\"middle\" x=\"55\" y=\"-7.8\" font-family=\"Times,serif\" font-size=\"14.00\" fill=\"#000000\">class = benign</text>\n</g>\n<!-- 3&#45;&gt;4 -->\n<g id=\"edge4\" class=\"edge\">\n<title>3&#45;&gt;4</title>\n<path fill=\"none\" stroke=\"#000000\" d=\"M132.0451,-88.9777C120.3014,-79.4545 107.5562,-69.1191 95.876,-59.6473\"/>\n<polygon fill=\"#000000\" stroke=\"#000000\" points=\"97.9568,-56.8286 87.9852,-53.2485 93.5478,-62.2656 97.9568,-56.8286\"/>\n</g>\n<!-- 5 -->\n<g id=\"node6\" class=\"node\">\n<title>5</title>\n<polygon fill=\"#bddef6\" stroke=\"#000000\" points=\"226,-53 128,-53 128,0 226,0 226,-53\"/>\n<text text-anchor=\"middle\" x=\"177\" y=\"-37.8\" font-family=\"Times,serif\" font-size=\"14.00\" fill=\"#000000\">samples = 5</text>\n<text text-anchor=\"middle\" x=\"177\" y=\"-22.8\" font-family=\"Times,serif\" font-size=\"14.00\" fill=\"#000000\">value = [2, 3]</text>\n<text text-anchor=\"middle\" x=\"177\" y=\"-7.8\" font-family=\"Times,serif\" font-size=\"14.00\" fill=\"#000000\">class = benign</text>\n</g>\n<!-- 3&#45;&gt;5 -->\n<g id=\"edge5\" class=\"edge\">\n<title>3&#45;&gt;5</title>\n<path fill=\"none\" stroke=\"#000000\" d=\"M175.0577,-88.9777C175.3139,-80.7364 175.589,-71.887 175.8493,-63.5153\"/>\n<polygon fill=\"#000000\" stroke=\"#000000\" points=\"179.3559,-63.3524 176.1684,-53.2485 172.3593,-63.1349 179.3559,-63.3524\"/>\n</g>\n<!-- 7 -->\n<g id=\"node8\" class=\"node\">\n<title>7</title>\n<polygon fill=\"#e58139\" stroke=\"#000000\" points=\"368,-53 252,-53 252,0 368,0 368,-53\"/>\n<text text-anchor=\"middle\" x=\"310\" y=\"-37.8\" font-family=\"Times,serif\" font-size=\"14.00\" fill=\"#000000\">samples = 2</text>\n<text text-anchor=\"middle\" x=\"310\" y=\"-22.8\" font-family=\"Times,serif\" font-size=\"14.00\" fill=\"#000000\">value = [2, 0]</text>\n<text text-anchor=\"middle\" x=\"310\" y=\"-7.8\" font-family=\"Times,serif\" font-size=\"14.00\" fill=\"#000000\">class = malignant</text>\n</g>\n<!-- 6&#45;&gt;7 -->\n<g id=\"edge7\" class=\"edge\">\n<title>6&#45;&gt;7</title>\n<path fill=\"none\" stroke=\"#000000\" d=\"M348.8462,-88.9777C343.3805,-80.187 337.4846,-70.7044 331.9778,-61.8477\"/>\n<polygon fill=\"#000000\" stroke=\"#000000\" points=\"334.8837,-59.8927 326.6312,-53.2485 328.9391,-63.5889 334.8837,-59.8927\"/>\n</g>\n<!-- 8 -->\n<g id=\"node9\" class=\"node\">\n<title>8</title>\n<polygon fill=\"#399de5\" stroke=\"#000000\" points=\"484,-53 386,-53 386,0 484,0 484,-53\"/>\n<text text-anchor=\"middle\" x=\"435\" y=\"-37.8\" font-family=\"Times,serif\" font-size=\"14.00\" fill=\"#000000\">samples = 1</text>\n<text text-anchor=\"middle\" x=\"435\" y=\"-22.8\" font-family=\"Times,serif\" font-size=\"14.00\" fill=\"#000000\">value = [0, 1]</text>\n<text text-anchor=\"middle\" x=\"435\" y=\"-7.8\" font-family=\"Times,serif\" font-size=\"14.00\" fill=\"#000000\">class = benign</text>\n</g>\n<!-- 6&#45;&gt;8 -->\n<g id=\"edge8\" class=\"edge\">\n<title>6&#45;&gt;8</title>\n<path fill=\"none\" stroke=\"#000000\" d=\"M392.9166,-88.9777C398.8994,-80.0954 405.3582,-70.5067 411.377,-61.5711\"/>\n<polygon fill=\"#000000\" stroke=\"#000000\" points=\"414.2991,-63.4978 416.9829,-53.2485 408.4933,-59.5871 414.2991,-63.4978\"/>\n</g>\n<!-- 10 -->\n<g id=\"node11\" class=\"node\">\n<title>10</title>\n<polygon fill=\"#52a9e8\" stroke=\"#000000\" points=\"645,-157 469,-157 469,-89 645,-89 645,-157\"/>\n<text text-anchor=\"middle\" x=\"557\" y=\"-141.8\" font-family=\"Times,serif\" font-size=\"14.00\" fill=\"#000000\">worst smoothness &lt;= 0.142</text>\n<text text-anchor=\"middle\" x=\"557\" y=\"-126.8\" font-family=\"Times,serif\" font-size=\"14.00\" fill=\"#000000\">samples = 9</text>\n<text text-anchor=\"middle\" x=\"557\" y=\"-111.8\" font-family=\"Times,serif\" font-size=\"14.00\" fill=\"#000000\">value = [1, 8]</text>\n<text text-anchor=\"middle\" x=\"557\" y=\"-96.8\" font-family=\"Times,serif\" font-size=\"14.00\" fill=\"#000000\">class = benign</text>\n</g>\n<!-- 9&#45;&gt;10 -->\n<g id=\"edge10\" class=\"edge\">\n<title>9&#45;&gt;10</title>\n<path fill=\"none\" stroke=\"#000000\" d=\"M596.6812,-192.9465C591.7913,-184.3271 586.4761,-174.9579 581.3722,-165.9611\"/>\n<polygon fill=\"#000000\" stroke=\"#000000\" points=\"584.3408,-164.1008 576.3622,-157.13 578.2524,-167.5549 584.3408,-164.1008\"/>\n</g>\n<!-- 13 -->\n<g id=\"node14\" class=\"node\">\n<title>13</title>\n<polygon fill=\"#e58139\" stroke=\"#000000\" points=\"779,-149.5 663,-149.5 663,-96.5 779,-96.5 779,-149.5\"/>\n<text text-anchor=\"middle\" x=\"721\" y=\"-134.3\" font-family=\"Times,serif\" font-size=\"14.00\" fill=\"#000000\">samples = 9</text>\n<text text-anchor=\"middle\" x=\"721\" y=\"-119.3\" font-family=\"Times,serif\" font-size=\"14.00\" fill=\"#000000\">value = [9, 0]</text>\n<text text-anchor=\"middle\" x=\"721\" y=\"-104.3\" font-family=\"Times,serif\" font-size=\"14.00\" fill=\"#000000\">class = malignant</text>\n</g>\n<!-- 9&#45;&gt;13 -->\n<g id=\"edge13\" class=\"edge\">\n<title>9&#45;&gt;13</title>\n<path fill=\"none\" stroke=\"#000000\" d=\"M650.3809,-192.9465C662.169,-181.2707 675.3462,-168.219 687.0962,-156.5809\"/>\n<polygon fill=\"#000000\" stroke=\"#000000\" points=\"689.5608,-159.066 694.2026,-149.5422 684.6348,-154.0927 689.5608,-159.066\"/>\n</g>\n<!-- 11 -->\n<g id=\"node12\" class=\"node\">\n<title>11</title>\n<polygon fill=\"#399de5\" stroke=\"#000000\" points=\"604,-53 506,-53 506,0 604,0 604,-53\"/>\n<text text-anchor=\"middle\" x=\"555\" y=\"-37.8\" font-family=\"Times,serif\" font-size=\"14.00\" fill=\"#000000\">samples = 8</text>\n<text text-anchor=\"middle\" x=\"555\" y=\"-22.8\" font-family=\"Times,serif\" font-size=\"14.00\" fill=\"#000000\">value = [0, 8]</text>\n<text text-anchor=\"middle\" x=\"555\" y=\"-7.8\" font-family=\"Times,serif\" font-size=\"14.00\" fill=\"#000000\">class = benign</text>\n</g>\n<!-- 10&#45;&gt;11 -->\n<g id=\"edge11\" class=\"edge\">\n<title>10&#45;&gt;11</title>\n<path fill=\"none\" stroke=\"#000000\" d=\"M556.2949,-88.9777C556.1241,-80.7364 555.9407,-71.887 555.7672,-63.5153\"/>\n<polygon fill=\"#000000\" stroke=\"#000000\" points=\"559.2609,-63.1738 555.5544,-53.2485 552.2624,-63.3189 559.2609,-63.1738\"/>\n</g>\n<!-- 12 -->\n<g id=\"node13\" class=\"node\">\n<title>12</title>\n<polygon fill=\"#e58139\" stroke=\"#000000\" points=\"738,-53 622,-53 622,0 738,0 738,-53\"/>\n<text text-anchor=\"middle\" x=\"680\" y=\"-37.8\" font-family=\"Times,serif\" font-size=\"14.00\" fill=\"#000000\">samples = 1</text>\n<text text-anchor=\"middle\" x=\"680\" y=\"-22.8\" font-family=\"Times,serif\" font-size=\"14.00\" fill=\"#000000\">value = [1, 0]</text>\n<text text-anchor=\"middle\" x=\"680\" y=\"-7.8\" font-family=\"Times,serif\" font-size=\"14.00\" fill=\"#000000\">class = malignant</text>\n</g>\n<!-- 10&#45;&gt;12 -->\n<g id=\"edge12\" class=\"edge\">\n<title>10&#45;&gt;12</title>\n<path fill=\"none\" stroke=\"#000000\" d=\"M600.3652,-88.9777C612.5036,-79.4545 625.6772,-69.1191 637.7501,-59.6473\"/>\n<polygon fill=\"#000000\" stroke=\"#000000\" points=\"640.1989,-62.1748 645.9061,-53.2485 635.878,-56.6674 640.1989,-62.1748\"/>\n</g>\n<!-- 15 -->\n<g id=\"node16\" class=\"node\">\n<title>15</title>\n<polygon fill=\"#5dafea\" stroke=\"#000000\" points=\"977,-261 829,-261 829,-193 977,-193 977,-261\"/>\n<text text-anchor=\"middle\" x=\"903\" y=\"-245.8\" font-family=\"Times,serif\" font-size=\"14.00\" fill=\"#000000\">mean texture &lt;= 19.97</text>\n<text text-anchor=\"middle\" x=\"903\" y=\"-230.8\" font-family=\"Times,serif\" font-size=\"14.00\" fill=\"#000000\">samples = 13</text>\n<text text-anchor=\"middle\" x=\"903\" y=\"-215.8\" font-family=\"Times,serif\" font-size=\"14.00\" fill=\"#000000\">value = [2, 11]</text>\n<text text-anchor=\"middle\" x=\"903\" y=\"-200.8\" font-family=\"Times,serif\" font-size=\"14.00\" fill=\"#000000\">class = benign</text>\n</g>\n<!-- 14&#45;&gt;15 -->\n<g id=\"edge15\" class=\"edge\">\n<title>14&#45;&gt;15</title>\n<path fill=\"none\" stroke=\"#000000\" d=\"M903,-296.9465C903,-288.776 903,-279.9318 903,-271.3697\"/>\n<polygon fill=\"#000000\" stroke=\"#000000\" points=\"906.5001,-271.13 903,-261.13 899.5001,-271.13 906.5001,-271.13\"/>\n</g>\n<!-- 18 -->\n<g id=\"node19\" class=\"node\">\n<title>18</title>\n<polygon fill=\"#e68743\" stroke=\"#000000\" points=\"1213.5,-261 1050.5,-261 1050.5,-193 1213.5,-193 1213.5,-261\"/>\n<text text-anchor=\"middle\" x=\"1132\" y=\"-245.8\" font-family=\"Times,serif\" font-size=\"14.00\" fill=\"#000000\">worst perimeter &lt;= 97.49</text>\n<text text-anchor=\"middle\" x=\"1132\" y=\"-230.8\" font-family=\"Times,serif\" font-size=\"14.00\" fill=\"#000000\">samples = 149</text>\n<text text-anchor=\"middle\" x=\"1132\" y=\"-215.8\" font-family=\"Times,serif\" font-size=\"14.00\" fill=\"#000000\">value = [142, 7]</text>\n<text text-anchor=\"middle\" x=\"1132\" y=\"-200.8\" font-family=\"Times,serif\" font-size=\"14.00\" fill=\"#000000\">class = malignant</text>\n</g>\n<!-- 14&#45;&gt;18 -->\n<g id=\"edge18\" class=\"edge\">\n<title>14&#45;&gt;18</title>\n<path fill=\"none\" stroke=\"#000000\" d=\"M977.9832,-296.9465C1000.2245,-286.8457 1024.7332,-275.7151 1047.5324,-265.3608\"/>\n<polygon fill=\"#000000\" stroke=\"#000000\" points=\"1049.1906,-268.4518 1056.8484,-261.13 1046.2961,-262.0783 1049.1906,-268.4518\"/>\n</g>\n<!-- 16 -->\n<g id=\"node17\" class=\"node\">\n<title>16</title>\n<polygon fill=\"#399de5\" stroke=\"#000000\" points=\"898.5,-149.5 797.5,-149.5 797.5,-96.5 898.5,-96.5 898.5,-149.5\"/>\n<text text-anchor=\"middle\" x=\"848\" y=\"-134.3\" font-family=\"Times,serif\" font-size=\"14.00\" fill=\"#000000\">samples = 11</text>\n<text text-anchor=\"middle\" x=\"848\" y=\"-119.3\" font-family=\"Times,serif\" font-size=\"14.00\" fill=\"#000000\">value = [0, 11]</text>\n<text text-anchor=\"middle\" x=\"848\" y=\"-104.3\" font-family=\"Times,serif\" font-size=\"14.00\" fill=\"#000000\">class = benign</text>\n</g>\n<!-- 15&#45;&gt;16 -->\n<g id=\"edge16\" class=\"edge\">\n<title>15&#45;&gt;16</title>\n<path fill=\"none\" stroke=\"#000000\" d=\"M884.9909,-192.9465C879.1658,-181.9316 872.693,-169.6922 866.8112,-158.5703\"/>\n<polygon fill=\"#000000\" stroke=\"#000000\" points=\"869.8057,-156.7459 862.0367,-149.5422 863.6178,-160.0184 869.8057,-156.7459\"/>\n</g>\n<!-- 17 -->\n<g id=\"node18\" class=\"node\">\n<title>17</title>\n<polygon fill=\"#e58139\" stroke=\"#000000\" points=\"1033,-149.5 917,-149.5 917,-96.5 1033,-96.5 1033,-149.5\"/>\n<text text-anchor=\"middle\" x=\"975\" y=\"-134.3\" font-family=\"Times,serif\" font-size=\"14.00\" fill=\"#000000\">samples = 2</text>\n<text text-anchor=\"middle\" x=\"975\" y=\"-119.3\" font-family=\"Times,serif\" font-size=\"14.00\" fill=\"#000000\">value = [2, 0]</text>\n<text text-anchor=\"middle\" x=\"975\" y=\"-104.3\" font-family=\"Times,serif\" font-size=\"14.00\" fill=\"#000000\">class = malignant</text>\n</g>\n<!-- 15&#45;&gt;17 -->\n<g id=\"edge17\" class=\"edge\">\n<title>15&#45;&gt;17</title>\n<path fill=\"none\" stroke=\"#000000\" d=\"M926.5755,-192.9465C934.3537,-181.7113 943.0139,-169.2021 950.8355,-157.9043\"/>\n<polygon fill=\"#000000\" stroke=\"#000000\" points=\"953.8102,-159.7564 956.6247,-149.5422 948.0548,-155.7719 953.8102,-159.7564\"/>\n</g>\n<!-- 19 -->\n<g id=\"node20\" class=\"node\">\n<title>19</title>\n<polygon fill=\"#cee6f8\" stroke=\"#000000\" points=\"1212.5,-157 1051.5,-157 1051.5,-89 1212.5,-89 1212.5,-157\"/>\n<text text-anchor=\"middle\" x=\"1132\" y=\"-141.8\" font-family=\"Times,serif\" font-size=\"14.00\" fill=\"#000000\">concavity error &lt;= 0.048</text>\n<text text-anchor=\"middle\" x=\"1132\" y=\"-126.8\" font-family=\"Times,serif\" font-size=\"14.00\" fill=\"#000000\">samples = 7</text>\n<text text-anchor=\"middle\" x=\"1132\" y=\"-111.8\" font-family=\"Times,serif\" font-size=\"14.00\" fill=\"#000000\">value = [3, 4]</text>\n<text text-anchor=\"middle\" x=\"1132\" y=\"-96.8\" font-family=\"Times,serif\" font-size=\"14.00\" fill=\"#000000\">class = benign</text>\n</g>\n<!-- 18&#45;&gt;19 -->\n<g id=\"edge19\" class=\"edge\">\n<title>18&#45;&gt;19</title>\n<path fill=\"none\" stroke=\"#000000\" d=\"M1132,-192.9465C1132,-184.776 1132,-175.9318 1132,-167.3697\"/>\n<polygon fill=\"#000000\" stroke=\"#000000\" points=\"1135.5001,-167.13 1132,-157.13 1128.5001,-167.13 1135.5001,-167.13\"/>\n</g>\n<!-- 22 -->\n<g id=\"node23\" class=\"node\">\n<title>22</title>\n<polygon fill=\"#e6843d\" stroke=\"#000000\" points=\"1387,-157 1231,-157 1231,-89 1387,-89 1387,-157\"/>\n<text text-anchor=\"middle\" x=\"1309\" y=\"-141.8\" font-family=\"Times,serif\" font-size=\"14.00\" fill=\"#000000\">worst texture &lt;= 16.325</text>\n<text text-anchor=\"middle\" x=\"1309\" y=\"-126.8\" font-family=\"Times,serif\" font-size=\"14.00\" fill=\"#000000\">samples = 142</text>\n<text text-anchor=\"middle\" x=\"1309\" y=\"-111.8\" font-family=\"Times,serif\" font-size=\"14.00\" fill=\"#000000\">value = [139, 3]</text>\n<text text-anchor=\"middle\" x=\"1309\" y=\"-96.8\" font-family=\"Times,serif\" font-size=\"14.00\" fill=\"#000000\">class = malignant</text>\n</g>\n<!-- 18&#45;&gt;22 -->\n<g id=\"edge22\" class=\"edge\">\n<title>18&#45;&gt;22</title>\n<path fill=\"none\" stroke=\"#000000\" d=\"M1189.9564,-192.9465C1206.6125,-183.1599 1224.9137,-172.4066 1242.0644,-162.3294\"/>\n<polygon fill=\"#000000\" stroke=\"#000000\" points=\"1244.0646,-165.2136 1250.9134,-157.13 1240.5184,-159.1783 1244.0646,-165.2136\"/>\n</g>\n<!-- 20 -->\n<g id=\"node21\" class=\"node\">\n<title>20</title>\n<polygon fill=\"#eeab7b\" stroke=\"#000000\" points=\"1080,-53 964,-53 964,0 1080,0 1080,-53\"/>\n<text text-anchor=\"middle\" x=\"1022\" y=\"-37.8\" font-family=\"Times,serif\" font-size=\"14.00\" fill=\"#000000\">samples = 4</text>\n<text text-anchor=\"middle\" x=\"1022\" y=\"-22.8\" font-family=\"Times,serif\" font-size=\"14.00\" fill=\"#000000\">value = [3, 1]</text>\n<text text-anchor=\"middle\" x=\"1022\" y=\"-7.8\" font-family=\"Times,serif\" font-size=\"14.00\" fill=\"#000000\">class = malignant</text>\n</g>\n<!-- 19&#45;&gt;20 -->\n<g id=\"edge20\" class=\"edge\">\n<title>19&#45;&gt;20</title>\n<path fill=\"none\" stroke=\"#000000\" d=\"M1093.2181,-88.9777C1082.467,-79.546 1070.8078,-69.3178 1060.0962,-59.9208\"/>\n<polygon fill=\"#000000\" stroke=\"#000000\" points=\"1062.316,-57.2122 1052.4905,-53.2485 1057.6996,-62.4743 1062.316,-57.2122\"/>\n</g>\n<!-- 21 -->\n<g id=\"node22\" class=\"node\">\n<title>21</title>\n<polygon fill=\"#399de5\" stroke=\"#000000\" points=\"1196,-53 1098,-53 1098,0 1196,0 1196,-53\"/>\n<text text-anchor=\"middle\" x=\"1147\" y=\"-37.8\" font-family=\"Times,serif\" font-size=\"14.00\" fill=\"#000000\">samples = 3</text>\n<text text-anchor=\"middle\" x=\"1147\" y=\"-22.8\" font-family=\"Times,serif\" font-size=\"14.00\" fill=\"#000000\">value = [0, 3]</text>\n<text text-anchor=\"middle\" x=\"1147\" y=\"-7.8\" font-family=\"Times,serif\" font-size=\"14.00\" fill=\"#000000\">class = benign</text>\n</g>\n<!-- 19&#45;&gt;21 -->\n<g id=\"edge21\" class=\"edge\">\n<title>19&#45;&gt;21</title>\n<path fill=\"none\" stroke=\"#000000\" d=\"M1137.2884,-88.9777C1138.5837,-80.6449 1139.9756,-71.6903 1141.2897,-63.2364\"/>\n<polygon fill=\"#000000\" stroke=\"#000000\" points=\"1144.7646,-63.6674 1142.8422,-53.2485 1137.8477,-62.5922 1144.7646,-63.6674\"/>\n</g>\n<!-- 23 -->\n<g id=\"node24\" class=\"node\">\n<title>23</title>\n<polygon fill=\"#399de5\" stroke=\"#000000\" points=\"1342,-53 1244,-53 1244,0 1342,0 1342,-53\"/>\n<text text-anchor=\"middle\" x=\"1293\" y=\"-37.8\" font-family=\"Times,serif\" font-size=\"14.00\" fill=\"#000000\">samples = 2</text>\n<text text-anchor=\"middle\" x=\"1293\" y=\"-22.8\" font-family=\"Times,serif\" font-size=\"14.00\" fill=\"#000000\">value = [0, 2]</text>\n<text text-anchor=\"middle\" x=\"1293\" y=\"-7.8\" font-family=\"Times,serif\" font-size=\"14.00\" fill=\"#000000\">class = benign</text>\n</g>\n<!-- 22&#45;&gt;23 -->\n<g id=\"edge23\" class=\"edge\">\n<title>22&#45;&gt;23</title>\n<path fill=\"none\" stroke=\"#000000\" d=\"M1303.359,-88.9777C1301.9774,-80.6449 1300.4927,-71.6903 1299.091,-63.2364\"/>\n<polygon fill=\"#000000\" stroke=\"#000000\" points=\"1302.5236,-62.5413 1297.435,-53.2485 1295.6179,-63.6863 1302.5236,-62.5413\"/>\n</g>\n<!-- 24 -->\n<g id=\"node25\" class=\"node\">\n<title>24</title>\n<polygon fill=\"#e5823a\" stroke=\"#000000\" points=\"1476,-53 1360,-53 1360,0 1476,0 1476,-53\"/>\n<text text-anchor=\"middle\" x=\"1418\" y=\"-37.8\" font-family=\"Times,serif\" font-size=\"14.00\" fill=\"#000000\">samples = 140</text>\n<text text-anchor=\"middle\" x=\"1418\" y=\"-22.8\" font-family=\"Times,serif\" font-size=\"14.00\" fill=\"#000000\">value = [139, 1]</text>\n<text text-anchor=\"middle\" x=\"1418\" y=\"-7.8\" font-family=\"Times,serif\" font-size=\"14.00\" fill=\"#000000\">class = malignant</text>\n</g>\n<!-- 22&#45;&gt;24 -->\n<g id=\"edge24\" class=\"edge\">\n<title>22&#45;&gt;24</title>\n<path fill=\"none\" stroke=\"#000000\" d=\"M1347.4293,-88.9777C1358.0827,-79.546 1369.6359,-69.3178 1380.2501,-59.9208\"/>\n<polygon fill=\"#000000\" stroke=\"#000000\" points=\"1382.6194,-62.4978 1387.7867,-53.2485 1377.9793,-57.2566 1382.6194,-62.4978\"/>\n</g>\n</g>\n</svg>\n"
          },
          "metadata": {
            "tags": []
          },
          "execution_count": 35
        }
      ]
    },
    {
      "cell_type": "markdown",
      "metadata": {
        "id": "kiBRfydBLs_R"
      },
      "source": [
        "The visualization of the tree provides a great in-depth view of how the algorithm makes predictions, and is a good example of a machine learning algorithm that is easily explained to nonexperts."
      ]
    },
    {
      "cell_type": "markdown",
      "metadata": {
        "id": "Rx8ZSk5iL2_B"
      },
      "source": [
        "### Feature importance in trees\n",
        "\n",
        "There are some useful properties that we can derive to summarize the tree. The commonly used summary is feature importance. If a feature has a low feature_importance, it doesn’t mean that this feature is uninformative. It only means that the feature was not picked by the tree, likely because another feature encodes the same information."
      ]
    },
    {
      "cell_type": "code",
      "metadata": {
        "colab": {
          "base_uri": "https://localhost:8080/"
        },
        "id": "_fSlyxPGLD_i",
        "outputId": "f9cc5e87-2e62-4ddc-8920-7206898b08a1"
      },
      "source": [
        "print(\"Feature importances:\\n{}\".format(tree.feature_importances_))"
      ],
      "execution_count": null,
      "outputs": [
        {
          "output_type": "stream",
          "text": [
            "Feature importances:\n",
            "[0.         0.05266035 0.         0.         0.         0.\n",
            " 0.00752597 0.70517703 0.00668975 0.         0.         0.\n",
            " 0.         0.01273138 0.         0.         0.         0.\n",
            " 0.         0.01859592 0.06025702 0.03193438 0.         0.02027231\n",
            " 0.         0.00752597 0.07662994 0.         0.         0.        ]\n"
          ],
          "name": "stdout"
        }
      ]
    },
    {
      "cell_type": "code",
      "metadata": {
        "colab": {
          "base_uri": "https://localhost:8080/"
        },
        "id": "7uw7KV7DMQBD",
        "outputId": "c5c00bf3-13e5-4e6c-8753-60929143aabe"
      },
      "source": [
        "#importing data from drive\n",
        "\n",
        "from google.colab import drive\n",
        "drive.mount('/content/drive')"
      ],
      "execution_count": null,
      "outputs": [
        {
          "output_type": "stream",
          "text": [
            "Drive already mounted at /content/drive; to attempt to forcibly remount, call drive.mount(\"/content/drive\", force_remount=True).\n"
          ],
          "name": "stdout"
        }
      ]
    },
    {
      "cell_type": "markdown",
      "metadata": {
        "id": "Kll-cdO8RpfS"
      },
      "source": [
        "Decision trees for classification, all that was said is similarly true for decision trees for regression, There is one particular property of using tree-based models for regression that is not able to extrapolate, or make predictions outside of the range of the training data."
      ]
    },
    {
      "cell_type": "code",
      "metadata": {
        "colab": {
          "base_uri": "https://localhost:8080/",
          "height": 300
        },
        "id": "1PeE0hlaN9ub",
        "outputId": "70dbf77f-24ee-42ab-9e70-2815a9135ae1"
      },
      "source": [
        "ram_prices = pd.read_csv('/content/drive/MyDrive/Colab Notebooks/Intro ML/Dataset/ram_price.csv')\n",
        "\n",
        "plt.semilogy(ram_prices.date, ram_prices.price)\n",
        "plt.xlabel(\"Year\")\n",
        "plt.ylabel(\"Price in $/Mbyte\")"
      ],
      "execution_count": null,
      "outputs": [
        {
          "output_type": "execute_result",
          "data": {
            "text/plain": [
              "Text(0, 0.5, 'Price in $/Mbyte')"
            ]
          },
          "metadata": {
            "tags": []
          },
          "execution_count": 51
        },
        {
          "output_type": "display_data",
          "data": {
            "image/png": "[encoded data removed]",
            "text/plain": [
              "<Figure size 432x288 with 1 Axes>"
            ]
          },
          "metadata": {
            "tags": [],
            "needs_background": "light"
          }
        }
      ]
    },
    {
      "cell_type": "code",
      "metadata": {
        "colab": {
          "base_uri": "https://localhost:8080/"
        },
        "id": "USzZcjTbSUys",
        "outputId": "4839dd31-9ab6-4ef8-9f78-295e9b7b88f6"
      },
      "source": [
        "from sklearn.tree import DecisionTreeRegressor\n",
        "from sklearn.linear_model import LinearRegression\n",
        "# use historical data to forecast prices after the year 2000\n",
        "data_train = ram_prices[ram_prices.date < 2000]\n",
        "data_test = ram_prices[ram_prices.date >= 2000]\n",
        "\n",
        "# predict prices based on date\n",
        "X_train = data_train.date[:, np.newaxis]\n",
        "\n",
        "# we use a log-transform to get a simpler relationship of data to target\n",
        "y_train = np.log(data_train.price)\n",
        "tree = DecisionTreeRegressor().fit(X_train, y_train)\n",
        "linear_reg = LinearRegression().fit(X_train, y_train)\n",
        "\n",
        "# predict on all data\n",
        "X_all = ram_prices.date[:, np.newaxis]\n",
        "pred_tree = tree.predict(X_all)\n",
        "pred_lr = linear_reg.predict(X_all)\n",
        "\n",
        "# undo log-transform\n",
        "price_tree = np.exp(pred_tree)\n",
        "price_lr = np.exp(pred_lr)"
      ],
      "execution_count": null,
      "outputs": [
        {
          "output_type": "stream",
          "text": [
            "/usr/local/lib/python3.7/dist-packages/ipykernel_launcher.py:8: FutureWarning: Support for multi-dimensional indexing (e.g. `obj[:, None]`) is deprecated and will be removed in a future version.  Convert to a numpy array before indexing instead.\n",
            "  \n",
            "/usr/local/lib/python3.7/dist-packages/ipykernel_launcher.py:16: FutureWarning: Support for multi-dimensional indexing (e.g. `obj[:, None]`) is deprecated and will be removed in a future version.  Convert to a numpy array before indexing instead.\n",
            "  app.launch_new_instance()\n"
          ],
          "name": "stderr"
        }
      ]
    },
    {
      "cell_type": "code",
      "metadata": {
        "colab": {
          "base_uri": "https://localhost:8080/",
          "height": 282
        },
        "id": "-h6ih7LlSqZs",
        "outputId": "c0831231-e227-4a4c-da91-b9b8497e2bb1"
      },
      "source": [
        "plt.semilogy(data_train.date, data_train.price, label=\"Training data\")\n",
        "plt.semilogy(data_test.date, data_test.price, label=\"Test data\")\n",
        "plt.semilogy(ram_prices.date, price_tree, label=\"Tree prediction\")\n",
        "plt.semilogy(ram_prices.date, price_lr, label=\"Linear prediction\")\n",
        "plt.legend()"
      ],
      "execution_count": null,
      "outputs": [
        {
          "output_type": "execute_result",
          "data": {
            "text/plain": [
              "<matplotlib.legend.Legend at 0x7fd1a75f0fd0>"
            ]
          },
          "metadata": {
            "tags": []
          },
          "execution_count": 54
        },
        {
          "output_type": "display_data",
          "data": {
            "image/png": "[encoded data removed]",
            "text/plain": [
              "<Figure size 432x288 with 1 Axes>"
            ]
          },
          "metadata": {
            "tags": [],
            "needs_background": "light"
          }
        }
      ]
    },
    {
      "cell_type": "markdown",
      "metadata": {
        "id": "EwxRROk0TjVK"
      },
      "source": [
        "Linear Regression line provides quite a good forecast for the test data, while glossing over some of the finer variations in both training & test.\n",
        "\n",
        "The tree model, on the other hand, makes perfect predictions on the training data; when not restrict the complexity of the tree, However, once we leave the data range for which the model has data. The tree has no ability to generate “new” responses, outside of what was seen in the training data. This shortcoming applies to all models based on trees."
      ]
    },
    {
      "cell_type": "markdown",
      "metadata": {
        "id": "JQi8qW4MUT3C"
      },
      "source": [
        "### Strengths, weaknesses, and parameters\n",
        "\n",
        "Parameters that control model complexity in decision trees\n",
        "are the pre-pruning parameters that stop the building of the tree before it developed.\n",
        "\n",
        "Decision trees have two advantages over many of the algorithms: the resulting model can easily be visualized and understood by nonexperts. \n",
        "\n",
        "Decision trees work well when you have features that are on completely different scales, or a mix of binary and continuous features.\n",
        "\n",
        "The main downside of decision trees is that even with the use of pre-pruning, they tend to overfit and provide poor generalization performance."
      ]
    }
  ]
}