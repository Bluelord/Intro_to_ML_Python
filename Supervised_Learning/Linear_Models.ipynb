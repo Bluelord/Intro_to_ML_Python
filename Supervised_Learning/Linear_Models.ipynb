{
  "nbformat": 4,
  "nbformat_minor": 0,
  "metadata": {
    "colab": {
      "name": "Linear Models.ipynb",
      "provenance": [],
      "collapsed_sections": [],
      "authorship_tag": "ABX9TyPsrP23oBzXvlbleTJx65wP",
      "include_colab_link": true
    },
    "kernelspec": {
      "name": "python3",
      "display_name": "Python 3"
    },
    "language_info": {
      "name": "python"
    }
  },
  "cells": [
    {
      "cell_type": "markdown",
      "metadata": {
        "id": "view-in-github",
        "colab_type": "text"
      },
      "source": [
        "<a href=\"https://colab.research.google.com/github/Bluelord/Intro_to_ML_Python_Notes/blob/master/Supervised_Learning/Linear_Models.ipynb\" target=\"_parent\"><img src=\"https://colab.research.google.com/assets/colab-badge.svg\" alt=\"Open In Colab\"/></a>"
      ]
    },
    {
      "cell_type": "markdown",
      "metadata": {
        "id": "0qegWlC-QNZG"
      },
      "source": [
        "### **Linear Models**"
      ]
    },
    {
      "cell_type": "markdown",
      "metadata": {
        "id": "2Qxunl4dQfnz"
      },
      "source": [
        "#### **Linear model for regression**\n",
        "\n",
        "Linear models make a prediction using a *linear function* of the input features, for regression the general prediction formula is given as\n",
        "\n",
        "$ \\hat{y} = w[0]*x[0] +  w[1]*x[1] + ... + w[p]*x[p] + b$\n",
        "\n",
        "$x[0]$ to $x[p]$ are the **p** features of a single data points, $w$ & $b$ are parametes of the model that are learned and $\\hat{y}$ is the prediction. $w$ is slope along each features axis and $b$ is offset value. The predicted value is a weighted sum of the input features (weight as $w$).\n",
        "\n",
        "Linear Model can be chrecterized as regression model for which the predictions are in a line for single feature, a plane for two feature or a hyperplane fir higher dimentions. When we have many features, linear model can be powerful tool to predict the output, aspecially when there is more features than data points.There are different linear models for regression depanding upon how model parameters $w$ & $b$ are learned and how the model complexity can be controlled."
      ]
    },
    {
      "cell_type": "markdown",
      "metadata": {
        "id": "8JT5-E9bQ1sy"
      },
      "source": [
        "**Linear Regression (aka ordinary least squares)**\n",
        "\n",
        "In this the parameters $w$ & $b$ are found by minimizing the *mean sqare error* between prediction and the true regression target $y$ on training set. Linear Regression has no parameter to control the model complexity."
      ]
    },
    {
      "cell_type": "code",
      "metadata": {
        "id": "e2m7ToHRQ2YS",
        "colab": {
          "base_uri": "https://localhost:8080/"
        },
        "outputId": "b94d6d5f-aa5e-43a9-febc-649288bbc20b"
      },
      "source": [
        "import pandas as pd\n",
        "import numpy as np\n",
        "import matplotlib.pyplot as plt\n",
        "from sklearn.model_selection import train_test_split\n",
        "from sklearn.linear_model import LinearRegression\n",
        "from sklearn.datasets import make_regression\n",
        "# Generate features matrix, target vector, and the true coefficients\n",
        "X, y = make_regression(n_samples = 1500, n_features = 3, n_informative = 3,\n",
        "                                     n_targets = 1, noise = 70, random_state = 42)\n",
        "X_train, X_test, y_train, y_test = train_test_split(X, y, random_state=70)\n",
        "lr = LinearRegression()\n",
        "lr.fit(X_train, y_train)\n",
        "print(\"Linear Regression coefficients: {}\" .format(\n",
        "    lr.coef_))\n",
        "print(\"Liner Regression intercept: {}\" .format(\n",
        "    lr.intercept_))\n",
        "print(\"Training set score: {: .2f}\" .format(\n",
        "    lr.score(X_train, y_train)))\n",
        "print(\"Test set score: {: .2f}\" .format(\n",
        "    lr.score(X_test, y_test)))"
      ],
      "execution_count": 20,
      "outputs": [
        {
          "output_type": "stream",
          "text": [
            "Linear Regression coefficients: [ 32.57113713  26.14391155 100.86277445]\n",
            "Liner Regression intercept: -4.6295875143597165\n",
            "Training set score:  0.71\n",
            "Test set score:  0.62\n"
          ],
          "name": "stdout"
        }
      ]
    },
    {
      "cell_type": "code",
      "metadata": {
        "colab": {
          "base_uri": "https://localhost:8080/"
        },
        "id": "IuAlcvBksCCz",
        "outputId": "65f79d29-c3ad-4473-81f3-37cbfdc74b51"
      },
      "source": [
        "# mglearn to get extended boston dataset\n",
        "!pip install mglearn"
      ],
      "execution_count": 13,
      "outputs": [
        {
          "output_type": "stream",
          "text": [
            "Collecting mglearn\n",
            "\u001b[?25l  Downloading https://files.pythonhosted.org/packages/65/38/8aced26fce0b2ae82c3c87cd3b6105f38ca6d9d51704ecc44aa54473e6b9/mglearn-0.1.9.tar.gz (540kB)\n",
            "\u001b[K     |████████████████████████████████| 542kB 5.6MB/s \n",
            "\u001b[?25hRequirement already satisfied: numpy in /usr/local/lib/python3.7/dist-packages (from mglearn) (1.19.5)\n",
            "Requirement already satisfied: matplotlib in /usr/local/lib/python3.7/dist-packages (from mglearn) (3.2.2)\n",
            "Requirement already satisfied: scikit-learn in /usr/local/lib/python3.7/dist-packages (from mglearn) (0.22.2.post1)\n",
            "Requirement already satisfied: pandas in /usr/local/lib/python3.7/dist-packages (from mglearn) (1.1.5)\n",
            "Requirement already satisfied: pillow in /usr/local/lib/python3.7/dist-packages (from mglearn) (7.1.2)\n",
            "Requirement already satisfied: cycler in /usr/local/lib/python3.7/dist-packages (from mglearn) (0.10.0)\n",
            "Requirement already satisfied: imageio in /usr/local/lib/python3.7/dist-packages (from mglearn) (2.4.1)\n",
            "Requirement already satisfied: joblib in /usr/local/lib/python3.7/dist-packages (from mglearn) (1.0.1)\n",
            "Requirement already satisfied: pyparsing!=2.0.4,!=2.1.2,!=2.1.6,>=2.0.1 in /usr/local/lib/python3.7/dist-packages (from matplotlib->mglearn) (2.4.7)\n",
            "Requirement already satisfied: python-dateutil>=2.1 in /usr/local/lib/python3.7/dist-packages (from matplotlib->mglearn) (2.8.1)\n",
            "Requirement already satisfied: kiwisolver>=1.0.1 in /usr/local/lib/python3.7/dist-packages (from matplotlib->mglearn) (1.3.1)\n",
            "Requirement already satisfied: scipy>=0.17.0 in /usr/local/lib/python3.7/dist-packages (from scikit-learn->mglearn) (1.4.1)\n",
            "Requirement already satisfied: pytz>=2017.2 in /usr/local/lib/python3.7/dist-packages (from pandas->mglearn) (2018.9)\n",
            "Requirement already satisfied: six in /usr/local/lib/python3.7/dist-packages (from cycler->mglearn) (1.15.0)\n",
            "Building wheels for collected packages: mglearn\n",
            "  Building wheel for mglearn (setup.py) ... \u001b[?25l\u001b[?25hdone\n",
            "  Created wheel for mglearn: filename=mglearn-0.1.9-py2.py3-none-any.whl size=582638 sha256=01701fd375e5e7e70ba78b3b74d3248022d11b442aeeb90241b10b528cb9b865\n",
            "  Stored in directory: /root/.cache/pip/wheels/eb/a6/ea/a6a3716233fa62fc561259b5cb1e28f79e9ff3592c0adac5f0\n",
            "Successfully built mglearn\n",
            "Installing collected packages: mglearn\n",
            "Successfully installed mglearn-0.1.9\n"
          ],
          "name": "stdout"
        }
      ]
    },
    {
      "cell_type": "code",
      "metadata": {
        "colab": {
          "base_uri": "https://localhost:8080/"
        },
        "id": "lEBgSyxr85Jh",
        "outputId": "86df1a2c-3778-4309-9937-d82615573458"
      },
      "source": [
        "# Generating 100 feature data (only 25 important features)\n",
        "import mglearn\n",
        "X, y = mglearn.datasets.load_extended_boston()\n",
        "X_train, X_test, y_train, y_test = train_test_split(X, y, random_state=42)\n",
        "lr = LinearRegression()\n",
        "lr.fit(X_train, y_train)\n",
        "print(\"Training set score: {: .2f}\" .format(\n",
        "    lr.score(X_train, y_train)))\n",
        "print(\"Test set score: {: .2f}\" .format(\n",
        "    lr.score(X_test, y_test)))"
      ],
      "execution_count": 21,
      "outputs": [
        {
          "output_type": "stream",
          "text": [
            "Training set score:  0.94\n",
            "Test set score:  0.78\n"
          ],
          "name": "stdout"
        }
      ]
    },
    {
      "cell_type": "markdown",
      "metadata": {
        "id": "BO5FGck5Q_ST"
      },
      "source": [
        "At low feature number model is most likly to be underfitting,when number of features are very high there is a higher chance of overfitting. Thus when we find such overfitting case we have to fine a model in which wr can control the model complexity, such alternatives are Ridge Regression and LASSO."
      ]
    },
    {
      "cell_type": "markdown",
      "metadata": {
        "id": "BINyIQ0fRCfE"
      },
      "source": [
        "**Ridge Regression**\n",
        "\n",
        "In this type of linear model, complexity controlling parameter is added to the ordinary linear regression model. By adding this parameter, most of the coeficient $w$ should become close to zero, which mean the effect of features on the output will be as little ad possible, this effect is called ad regularization. This regularization avoids the model to get overfitted, this regression regularization is also called as *L2 regularization*."
      ]
    },
    {
      "cell_type": "code",
      "metadata": {
        "colab": {
          "base_uri": "https://localhost:8080/"
        },
        "id": "tUlWe7IdGAoy",
        "outputId": "ddf506ae-6191-4420-b6ec-1d2c1931103e"
      },
      "source": [
        "# Generating 100 feature data (only 25 important features)\n",
        "from sklearn.linear_model import Ridge\n",
        "\n",
        "ridge = Ridge().fit(X_train, y_train)\n",
        "print(\"Training set score: {: .2f}\" .format(\n",
        "    ridge.score(X_train, y_train)))\n",
        "print(\"Test set score: {: .2f}\" .format(\n",
        "    ridge.score(X_test, y_test)))"
      ],
      "execution_count": 22,
      "outputs": [
        {
          "output_type": "stream",
          "text": [
            "Training set score:  0.87\n",
            "Test set score:  0.81\n"
          ],
          "name": "stdout"
        }
      ]
    },
    {
      "cell_type": "code",
      "metadata": {
        "colab": {
          "base_uri": "https://localhost:8080/"
        },
        "id": "NNhZkCQxFx_L",
        "outputId": "5416e02e-67d4-430a-b491-7c2e8005ad2d"
      },
      "source": [
        "\n",
        "ridge01 = Ridge(alpha=0.01).fit(X_train, y_train)\n",
        "print(\"Training set score: {: .2f}\" .format(\n",
        "    ridge01.score(X_train, y_train)))\n",
        "print(\"Test set score: {: .2f} \\n\" .format(\n",
        "    ridge01.score(X_test, y_test)))\n",
        "\n",
        "ridge1 = Ridge(alpha=1).fit(X_train, y_train)\n",
        "print(\"Training set score: {: .2f}\" .format(\n",
        "    ridge1.score(X_train, y_train)))\n",
        "print(\"Test set score: {: .2f} \\n\" .format(\n",
        "    ridge1.score(X_test, y_test)))\n",
        "\n",
        "ridge10 = Ridge(alpha=10).fit(X_train, y_train)\n",
        "print(\"Training set score: {: .2f}\" .format(\n",
        "    ridge10.score(X_train, y_train)))\n",
        "print(\"Test set score: {: .2f}\" .format(\n",
        "    ridge10.score(X_test, y_test)))"
      ],
      "execution_count": 24,
      "outputs": [
        {
          "output_type": "stream",
          "text": [
            "Training set score:  0.94\n",
            "Test set score:  0.81 \n",
            "\n",
            "Training set score:  0.87\n",
            "Test set score:  0.81 \n",
            "\n",
            "Training set score:  0.77\n",
            "Test set score:  0.73\n"
          ],
          "name": "stdout"
        }
      ]
    },
    {
      "cell_type": "markdown",
      "metadata": {
        "id": "xEqt0sTARJhz"
      },
      "source": [
        "Ridge is more restricted model, so its less likly to overfit. Less complex model means worse performance on trainig but better generalization. Ridge model can make trade-off between the simplicity of model and its performance on training set by choosing the *alpha parameter*. This value depends on the dataset, inceasing *alpha* forces coefficients to move more towards zero and decreasing it will make model less restricted."
      ]
    },
    {
      "cell_type": "code",
      "metadata": {
        "id": "YCeTnmLxRLjh",
        "colab": {
          "base_uri": "https://localhost:8080/",
          "height": 278
        },
        "outputId": "a04e4fcb-9980-4f08-b31c-fbe764ba2a03"
      },
      "source": [
        "plt.plot(ridge.coef_, 's', label=\"Ridge alpha=1\")\n",
        "plt.plot(ridge10.coef_, '^', label=\"Ridge alpha=10\")\n",
        "plt.plot(ridge01.coef_, 'v', label=\"Ridge alpha=0.1\")\n",
        "plt.plot(lr.coef_, 'o', label=\"LinearRegression\")\n",
        "plt.xlabel(\"Coefficient index\")\n",
        "plt.ylabel(\"Coefficient magnitude\")\n",
        "plt.hlines(0, 0, len(lr.coef_))\n",
        "plt.ylim(-25, 25)\n",
        "plt.legend()\n",
        "plt.show()"
      ],
      "execution_count": 25,
      "outputs": [
        {
          "output_type": "display_data",
          "data": {
            "image/png": "[encoded data removed]",
            "text/plain": [
              "<Figure size 432x288 with 1 Axes>"
            ]
          },
          "metadata": {
            "tags": [],
            "needs_background": "light"
          }
        }
      ]
    },
    {
      "cell_type": "markdown",
      "metadata": {
        "id": "m1pdaLisuBH0"
      },
      "source": [
        "We can also understand the influence of regularization by fixing the alpha value and changing the size of samples of dataset. mglearns provides the plot which shows performance as a function of data size called learning curves. The plot shows the learning curves for ridge regression and linear regression on the Boston Housing dataset.\n",
        "\n",
        "As expected training score is higher than the test set for all the dataset size. since the ridge is regularized the training score is low in ridge than linear regression. For low datasize LR is not able to learn better, but due to regularization Ridge learn better as the data size to certain value the performance LR catches up with Ridge. With enough dataset size regularization become less important and both gives same score for test set."
      ]
    },
    {
      "cell_type": "code",
      "metadata": {
        "colab": {
          "base_uri": "https://localhost:8080/",
          "height": 324
        },
        "id": "sTeQxYLhurQK",
        "outputId": "37bab1b1-a231-4f01-88e5-9536a5205709"
      },
      "source": [
        "mglearn.plots.plot_ridge_n_samples()"
      ],
      "execution_count": 27,
      "outputs": [
        {
          "output_type": "display_data",
          "data": {
            "image/png": "[encoded data removed]",
            "text/plain": [
              "<Figure size 432x288 with 1 Axes>"
            ]
          },
          "metadata": {
            "tags": [],
            "needs_background": "light"
          }
        }
      ]
    },
    {
      "cell_type": "markdown",
      "metadata": {
        "id": "bxu3UCKiRMAB"
      },
      "source": [
        "LASSO\n",
        "\n",
        "LASSO regression also restrict the coefficients, it is also called as *L1 regularization*. While using Lasso regression we are expected taht some of the coefficients hets exactly zero, which means this features are entirly ignored by the model. We can also consider LASSO as a form of automatic feature selection model."
      ]
    },
    {
      "cell_type": "code",
      "metadata": {
        "id": "iw42T5FURWp1",
        "colab": {
          "base_uri": "https://localhost:8080/"
        },
        "outputId": "e03c224a-a716-47d4-8480-a365426b60df"
      },
      "source": [
        "from sklearn.linear_model import Lasso\n",
        "lasso = Lasso().fit(X_train, y_train)\n",
        "print(\"Training set score: {:.2f}\".format(lasso.score(X_train, y_train)))\n",
        "print(\"Test set score: {:.2f}\".format(lasso.score(X_test, y_test)))\n",
        "print(\"Number of features used: {}\".format(np.sum(lasso.coef_ != 0)))"
      ],
      "execution_count": 28,
      "outputs": [
        {
          "output_type": "stream",
          "text": [
            "Training set score: 0.27\n",
            "Test set score: 0.26\n",
            "Number of features used: 3\n"
          ],
          "name": "stdout"
        }
      ]
    },
    {
      "cell_type": "code",
      "metadata": {
        "colab": {
          "base_uri": "https://localhost:8080/"
        },
        "id": "oOAvJCnPyuk0",
        "outputId": "e90cefc9-cf21-42d0-9feb-46dd93b3ebbf"
      },
      "source": [
        "# we increase the default setting of \"max_iter\",\n",
        "# otherwise the model would warn us that we should increase max_iter.\n",
        "lasso001 = Lasso(alpha=0.01, max_iter=100000).fit(X_train, y_train)\n",
        "print(\"Training set score: {:.2f}\".format(lasso001.score(X_train, y_train)))\n",
        "print(\"Test set score: {:.2f}\".format(lasso001.score(X_test, y_test)))\n",
        "print(\"Number of features used: {}\".format(np.sum(lasso001.coef_ != 0)))"
      ],
      "execution_count": 29,
      "outputs": [
        {
          "output_type": "stream",
          "text": [
            "Training set score: 0.89\n",
            "Test set score: 0.80\n",
            "Number of features used: 34\n"
          ],
          "name": "stdout"
        }
      ]
    },
    {
      "cell_type": "code",
      "metadata": {
        "colab": {
          "base_uri": "https://localhost:8080/"
        },
        "id": "OEesIfHlyyzD",
        "outputId": "5400b6fa-0712-47a1-a301-a68f71ce02da"
      },
      "source": [
        "lasso00001 = Lasso(alpha=0.0001, max_iter=100000).fit(X_train, y_train)\n",
        "print(\"Training set score: {:.2f}\".format(lasso00001.score(X_train, y_train)))\n",
        "print(\"Test set score: {:.2f}\".format(lasso00001.score(X_test, y_test)))\n",
        "print(\"Number of features used: {}\".format(np.sum(lasso00001.coef_ != 0)))"
      ],
      "execution_count": 30,
      "outputs": [
        {
          "output_type": "stream",
          "text": [
            "Training set score: 0.94\n",
            "Test set score: 0.81\n",
            "Number of features used: 95\n"
          ],
          "name": "stdout"
        }
      ]
    },
    {
      "cell_type": "code",
      "metadata": {
        "colab": {
          "base_uri": "https://localhost:8080/",
          "height": 341
        },
        "id": "AyeJ6Ed0y2yT",
        "outputId": "420c9414-7840-4f41-a9be-24cfda6852d5"
      },
      "source": [
        "plt.plot(lasso.coef_, 's', label=\"Lasso alpha=1\")\n",
        "plt.plot(lasso001.coef_, '^', label=\"Lasso alpha=0.01\")\n",
        "plt.plot(lasso00001.coef_, 'v', label=\"Lasso alpha=0.0001\")\n",
        "plt.plot(ridge01.coef_, 'o', label=\"Ridge alpha=0.1\")\n",
        "plt.legend(ncol=2, loc=(0, 1.05))\n",
        "plt.ylim(-25, 25)\n",
        "plt.xlabel(\"Coefficient index\")\n",
        "plt.ylabel(\"Coefficient magnitude\")"
      ],
      "execution_count": 31,
      "outputs": [
        {
          "output_type": "execute_result",
          "data": {
            "text/plain": [
              "Text(0, 0.5, 'Coefficient magnitude')"
            ]
          },
          "metadata": {
            "tags": []
          },
          "execution_count": 31
        },
        {
          "output_type": "display_data",
          "data": {
            "image/png": "[encoded data removed]",
            "text/plain": [
              "<Figure size 432x288 with 1 Axes>"
            ]
          },
          "metadata": {
            "tags": [],
            "needs_background": "light"
          }
        }
      ]
    },
    {
      "cell_type": "markdown",
      "metadata": {
        "id": "zX4_msOCRXRT"
      },
      "source": [
        "In practice, Ridge is the first choice and if we are expect only few feature from the large feature dataset then LASSO is the best choice. scikit has **ElasticNet class* which combines the penalties (regularization term) of Lasso and Ridge, which works best at the price of tuning two parameters, L1 & L2 regularuzations to adjest."
      ]
    },
    {
      "cell_type": "markdown",
      "metadata": {
        "id": "DnuoIhXLRdyG"
      },
      "source": [
        "#### **Linear models for classification**\n",
        "\n",
        "The formula for classification is similar to that of regression, but instead of returning weighted sum we threshold the value at zero. If the value less than 0 be predict it as class -1 or else we predict the class as +1. In classification, the *decision boundary* is a linear function of input, which can be a line for twtwo classes or hyperplan for multiclas.\n",
        "\n",
        "The algorithms differ in two ways, how well $w$ & $b$ fits the training data and what kind of regularization is used. Two most common algorithms are *Logistic Regression* and *linear support vector machines* "
      ]
    },
    {
      "cell_type": "code",
      "metadata": {
        "id": "Bag0GLpvRaQB"
      },
      "source": [
        ""
      ],
      "execution_count": null,
      "outputs": []
    },
    {
      "cell_type": "markdown",
      "metadata": {
        "id": "iG0gldtMR0Fq"
      },
      "source": [
        "The performance of classification is similar to that of regression in similar sinario like high dimentions large darapoitns etc, Both LR and SVC, by default uses L2 regularization. The parameter use for regularization is called **C**, this emphasis on finding a coefficient. Higher value of C can overfit the training data."
      ]
    },
    {
      "cell_type": "code",
      "metadata": {
        "id": "xL55P6s5R0xQ"
      },
      "source": [
        ""
      ],
      "execution_count": null,
      "outputs": []
    },
    {
      "cell_type": "markdown",
      "metadata": {
        "id": "pr5g4AjDR4UC"
      },
      "source": [
        "**Linear Model for multiclass classification**"
      ]
    },
    {
      "cell_type": "code",
      "metadata": {
        "id": "qz26VwaLR5Sg"
      },
      "source": [
        ""
      ],
      "execution_count": null,
      "outputs": []
    }
  ]
}