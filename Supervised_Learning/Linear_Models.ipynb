{
  "nbformat": 4,
  "nbformat_minor": 0,
  "metadata": {
    "colab": {
      "name": "Linear Models.ipynb",
      "provenance": [],
      "collapsed_sections": [],
      "authorship_tag": "ABX9TyOjAIEtjpRX8fp+vX1on2JV",
      "include_colab_link": true
    },
    "kernelspec": {
      "name": "python3",
      "display_name": "Python 3"
    },
    "language_info": {
      "name": "python"
    }
  },
  "cells": [
    {
      "cell_type": "markdown",
      "metadata": {
        "id": "view-in-github",
        "colab_type": "text"
      },
      "source": [
        "<a href=\"https://colab.research.google.com/github/Bluelord/Intro_to_ML_Python_Notes/blob/master/Supervised_Learning/Linear_Models.ipynb\" target=\"_parent\"><img src=\"https://colab.research.google.com/assets/colab-badge.svg\" alt=\"Open In Colab\"/></a>"
      ]
    },
    {
      "cell_type": "markdown",
      "metadata": {
        "id": "0qegWlC-QNZG"
      },
      "source": [
        "### **Linear Models**"
      ]
    },
    {
      "cell_type": "markdown",
      "metadata": {
        "id": "2Qxunl4dQfnz"
      },
      "source": [
        "#### **Linear model for regression**\n",
        "\n",
        "Linear models make a prediction using a *linear function* of the input features, for regression the general prediction formula is given as\n",
        "\n",
        "$ \\hat{y} = w[0]*x[0] +  w[1]*x[1] + ... + w[p]*x[p] + b$\n",
        "\n",
        "$x[0]$ to $x[p]$ are the **p** features of a single data points, $w$ & $b$ are parametes of the model that are learned and $\\hat{y}$ is the prediction. $w$ is slope along each features axis and $b$ is offset value. The predicted value is a weighted sum of the input features (weight as $w$).\n",
        "\n",
        "Linear Model can be chrecterized as regression model for which the predictions are in a line for single feature, a plane for two feature or a hyperplane fir higher dimentions. When we have many features, linear model can be powerful tool to predict the output, aspecially when there is more features than data points.There are different linear models for regression depanding upon how model parameters $w$ & $b$ are learned and how the model complexity can be controlled."
      ]
    },
    {
      "cell_type": "markdown",
      "metadata": {
        "id": "8JT5-E9bQ1sy"
      },
      "source": [
        "**Linear Regression (aka ordinary least squares)**\n",
        "\n",
        "In this the parameters $w$ & $b$ are found by minimizing the *mean sqare error* between prediction and the true regression target $y$ on training set. Linear Regression has no parameter to control the model complexity."
      ]
    },
    {
      "cell_type": "code",
      "metadata": {
        "id": "e2m7ToHRQ2YS",
        "colab": {
          "base_uri": "https://localhost:8080/"
        },
        "outputId": "d0bf8a7d-8f1b-45cd-bd8b-7e3c1c5efd0a"
      },
      "source": [
        "import pandas as pd\n",
        "import numpy as np\n",
        "import matplotlib.pyplot as plt\n",
        "from sklearn.model_selection import train_test_split\n",
        "from sklearn.linear_model import LinearRegression\n",
        "from sklearn.datasets import make_regression\n",
        "# Generate features matrix, target vector, and the true coefficients\n",
        "X, y = make_regression(n_samples = 1500, n_features = 3, n_informative = 3,\n",
        "                                     n_targets = 1, noise = 70, random_state = 42)\n",
        "X_train, X_test, y_train, y_test = train_test_split(X, y, random_state=70)\n",
        "lr = LinearRegression()\n",
        "lr.fit(X_train, y_train)\n",
        "print(\"Linear Regression coefficients: {}\" .format(\n",
        "    lr.coef_))\n",
        "print(\"Liner Regression intercept: {}\" .format(\n",
        "    lr.intercept_))\n",
        "print(\"Training set score: {: .2f}\" .format(\n",
        "    lr.score(X_train, y_train)))\n",
        "print(\"Test set score: {: .2f}\" .format(\n",
        "    lr.score(X_test, y_test)))"
      ],
      "execution_count": 84,
      "outputs": [
        {
          "output_type": "stream",
          "text": [
            "Linear Regression coefficients: [ 32.57113713  26.14391155 100.86277445]\n",
            "Liner Regression intercept: -4.6295875143597165\n",
            "Training set score:  0.71\n",
            "Test set score:  0.62\n"
          ],
          "name": "stdout"
        }
      ]
    },
    {
      "cell_type": "code",
      "metadata": {
        "colab": {
          "base_uri": "https://localhost:8080/"
        },
        "id": "lEBgSyxr85Jh",
        "outputId": "cc44ef43-f3f7-44bb-d406-a1f1326e2906"
      },
      "source": [
        "# Generating 100 feature data (only 25 important features)\n",
        "X, y = make_regression(n_samples = 1500, n_features = 100, n_informative = 25,\n",
        "                                     n_targets = 1, noise = 70, random_state = 42)\n",
        "X_train, X_test, y_train, y_test = train_test_split(X, y, random_state=70)\n",
        "lr = LinearRegression()\n",
        "lr.fit(X_train, y_train)\n",
        "print(\"Training set score: {: .2f}\" .format(\n",
        "    lr.score(X_train, y_train)))\n",
        "print(\"Test set score: {: .2f}\" .format(\n",
        "    lr.score(X_test, y_test)))"
      ],
      "execution_count": 85,
      "outputs": [
        {
          "output_type": "stream",
          "text": [
            "Training set score:  0.94\n",
            "Test set score:  0.92\n"
          ],
          "name": "stdout"
        }
      ]
    },
    {
      "cell_type": "markdown",
      "metadata": {
        "id": "BO5FGck5Q_ST"
      },
      "source": [
        "At low feature number model is most likly to be underfitting,when number of features are very high there is a higher chance of overfitting. Thus when we find such overfitting case we have to fine a model in which wr can control the model complexity, such alternatives are Ridge Regression and LASSO."
      ]
    },
    {
      "cell_type": "markdown",
      "metadata": {
        "id": "BINyIQ0fRCfE"
      },
      "source": [
        "**Ridge Regression**\n",
        "\n",
        "In this type of linear model, complexity controlling parameter is added to the ordinary linear regression model. By adding this parameter, most of the coeficient $w$ should become close to zero, which mean the effect of features on the output will be as little ad possible, this effect is called ad regularization. This regularization avoids the model to get overfitted, this regression regularization is also called as *L2 regularization*."
      ]
    },
    {
      "cell_type": "code",
      "metadata": {
        "id": "u6t-pgXaRGFp",
        "colab": {
          "base_uri": "https://localhost:8080/"
        },
        "outputId": "b2f9c4ab-cfd1-4abb-ed11-93d9cd3990ae"
      },
      "source": [
        "from sklearn.linear_model import Ridge\n",
        "from sklearn.datasets import load_boston\n",
        "X, y = load_boston(return_X_y=True)\n",
        "\n",
        "X_train, X_test, y_train, y_test = train_test_split(X, y, random_state = 70)\n",
        "ridge = Ridge().fit(X_train, y_train)\n",
        "print(\"Train set score: {: .2f}\" .format(\n",
        "    ridge.score(X_train, y_train)))\n",
        "print(\"Test set score: {: .2f}\" .format(\n",
        "    ridge.score(X_test, y_test)))"
      ],
      "execution_count": 55,
      "outputs": [
        {
          "output_type": "stream",
          "text": [
            "Train set score:  0.73\n",
            "Test set score:  0.75\n"
          ],
          "name": "stdout"
        }
      ]
    },
    {
      "cell_type": "code",
      "metadata": {
        "colab": {
          "base_uri": "https://localhost:8080/"
        },
        "id": "tUlWe7IdGAoy",
        "outputId": "72cd41af-9525-4e54-c990-8cd73909ec8c"
      },
      "source": [
        "# Generating 100 feature data (only 25 important features)\n",
        "from sklearn.linear_model import Ridge\n",
        "X, y = make_regression(n_samples = 1500, n_features = 100, n_informative = 25,\n",
        "                                     n_targets = 1, noise = 70, random_state = 42)\n",
        "X_train, X_test, y_train, y_test = train_test_split(X, y, random_state=70)\n",
        "ridge = Ridge().fit(X_train, y_train)\n",
        "print(\"Training set score: {: .2f}\" .format(\n",
        "    ridge.score(X_train, y_train)))\n",
        "print(\"Test set score: {: .2f}\" .format(\n",
        "    ridge.score(X_test, y_test)))"
      ],
      "execution_count": 87,
      "outputs": [
        {
          "output_type": "stream",
          "text": [
            "Training set score:  0.94\n",
            "Test set score:  0.92\n"
          ],
          "name": "stdout"
        }
      ]
    },
    {
      "cell_type": "code",
      "metadata": {
        "colab": {
          "base_uri": "https://localhost:8080/"
        },
        "id": "NNhZkCQxFx_L",
        "outputId": "0e5321d5-9048-4be0-f560-8025a6a15b85"
      },
      "source": [
        "ridge01 = Ridge(alpha=0.01).fit(X_train, y_train)\n",
        "print(\"Training set score: {: .2f}\" .format(\n",
        "    ridge01.score(X_train, y_train)))\n",
        "print(\"Test set score: {: .2f}\" .format(\n",
        "    ridge01.score(X_test, y_test)))\n",
        "\n",
        "ridge1 = Ridge(alpha=1).fit(X_train, y_train)\n",
        "print(\"Training set score: {: .2f}\" .format(\n",
        "    ridge1.score(X_train, y_train)))\n",
        "print(\"Test set score: {: .2f}\" .format(\n",
        "    ridge1.score(X_test, y_test)))\n",
        "\n",
        "ridge10 = Ridge(alpha=10).fit(X_train, y_train)\n",
        "print(\"Training set score: {: .2f}\" .format(\n",
        "    ridge10.score(X_train, y_train)))\n",
        "print(\"Test set score: {: .2f}\" .format(\n",
        "    ridge10.score(X_test, y_test)))"
      ],
      "execution_count": 71,
      "outputs": [
        {
          "output_type": "stream",
          "text": [
            "Training set score:  0.94\n",
            "Test set score:  0.92\n",
            "Training set score:  0.94\n",
            "Test set score:  0.92\n",
            "Training set score:  0.94\n",
            "Test set score:  0.92\n"
          ],
          "name": "stdout"
        }
      ]
    },
    {
      "cell_type": "markdown",
      "metadata": {
        "id": "xEqt0sTARJhz"
      },
      "source": [
        "Ridge is more restricted model, so its less likly to overfit. Less complex model means worse performance on trainig but better generalization. Ridge model can make trade-off between the simplicity of model and its performance on training set by choosing the *alpha parameter*. This value depends on the dataset, inceasing *alpha* forces coefficients to move more towards zero and decreasing it will make model less restricted."
      ]
    },
    {
      "cell_type": "code",
      "metadata": {
        "id": "YCeTnmLxRLjh",
        "colab": {
          "base_uri": "https://localhost:8080/",
          "height": 278
        },
        "outputId": "dc092652-b9f5-4176-a660-1a0688325e95"
      },
      "source": [
        "plt.plot(ridge.coef_, 's', label=\"Ridge alpha=1\")\n",
        "plt.plot(ridge10.coef_, '^', label=\"Ridge alpha=10\")\n",
        "plt.plot(ridge01.coef_, 'v', label=\"Ridge alpha=0.1\")\n",
        "plt.plot(lr.coef_, 'o', label=\"LinearRegression\")\n",
        "plt.xlabel(\"Coefficient index\")\n",
        "plt.ylabel(\"Coefficient magnitude\")\n",
        "plt.hlines(0, 0, len(lr.coef_))\n",
        "plt.ylim(-25, 25)\n",
        "plt.legend()\n",
        "plt.show()"
      ],
      "execution_count": 65,
      "outputs": [
        {
          "output_type": "display_data",
          "data": {
            "image/png": "[encoded data removed]",
            "text/plain": [
              "<Figure size 432x288 with 1 Axes>"
            ]
          },
          "metadata": {
            "tags": [],
            "needs_background": "light"
          }
        }
      ]
    },
    {
      "cell_type": "markdown",
      "metadata": {
        "id": "bxu3UCKiRMAB"
      },
      "source": [
        "LASSO\n",
        "\n",
        "LASSO regression also restrict the coefficients, it is also called as *L1 regularization*. While using Lasso regression we are expected taht some of the coefficients hets exactly zero, which means this features are entirly ignored by the model. We can also consider LASSO as a form of automatic feature selection model."
      ]
    },
    {
      "cell_type": "code",
      "metadata": {
        "id": "iw42T5FURWp1"
      },
      "source": [
        "from "
      ],
      "execution_count": null,
      "outputs": []
    },
    {
      "cell_type": "markdown",
      "metadata": {
        "id": "zX4_msOCRXRT"
      },
      "source": [
        "In practice, Ridge is the first choice and if we are expect only few feature from the large feature dataset then LASSO is the best choice. scikit has **ElasticNet class* which combines the penalties (regularization term) of Lasso and Ridge, which works best at the price of tuning two parameters, L1 & L2 regularuzations to adjest."
      ]
    },
    {
      "cell_type": "markdown",
      "metadata": {
        "id": "DnuoIhXLRdyG"
      },
      "source": [
        "#### **Linear models for classification**\n",
        "\n",
        "The formula for classification is similar to that of regression, but instead of returning weighted sum we threshold the value at zero. If the value less than 0 be predict it as class -1 or else we predict the class as +1. In classification, the *decision boundary* is a linear function of input, which can be a line for twtwo classes or hyperplan for multiclas.\n",
        "\n",
        "The algorithms differ in two ways, how well $w$ & $b$ fits the training data and what kind of regularization is used. Two most common algorithms are *Logistic Regression* and *linear support vector machines* "
      ]
    },
    {
      "cell_type": "code",
      "metadata": {
        "id": "Bag0GLpvRaQB"
      },
      "source": [
        ""
      ],
      "execution_count": null,
      "outputs": []
    },
    {
      "cell_type": "markdown",
      "metadata": {
        "id": "iG0gldtMR0Fq"
      },
      "source": [
        "The performance of classification is similar to that of regression in similar sinario like high dimentions large darapoitns etc, Both LR and SVC, by default uses L2 regularization. The parameter use for regularization is called **C**, this emphasis on finding a coefficient. Higher value of C can overfit the training data."
      ]
    },
    {
      "cell_type": "code",
      "metadata": {
        "id": "xL55P6s5R0xQ"
      },
      "source": [
        ""
      ],
      "execution_count": null,
      "outputs": []
    },
    {
      "cell_type": "markdown",
      "metadata": {
        "id": "pr5g4AjDR4UC"
      },
      "source": [
        "**Linear Model for multiclass classification**"
      ]
    },
    {
      "cell_type": "code",
      "metadata": {
        "id": "qz26VwaLR5Sg"
      },
      "source": [
        ""
      ],
      "execution_count": null,
      "outputs": []
    }
  ]
}