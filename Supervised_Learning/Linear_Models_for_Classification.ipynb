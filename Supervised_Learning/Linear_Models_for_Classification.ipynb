{
  "nbformat": 4,
  "nbformat_minor": 0,
  "metadata": {
    "colab": {
      "name": "Linear Models for Classification.ipynb",
      "provenance": [],
      "collapsed_sections": [],
      "authorship_tag": "ABX9TyOMck+sMATUEbSTb0aM9mns",
      "include_colab_link": true
    },
    "kernelspec": {
      "name": "python3",
      "display_name": "Python 3"
    },
    "language_info": {
      "name": "python"
    }
  },
  "cells": [
    {
      "cell_type": "markdown",
      "metadata": {
        "id": "view-in-github",
        "colab_type": "text"
      },
      "source": [
        "<a href=\"https://colab.research.google.com/github/Bluelord/Intro_to_ML_Python_Notes/blob/master/Supervised_Learning/Linear_Models_for_Classification.ipynb\" target=\"_parent\"><img src=\"https://colab.research.google.com/assets/colab-badge.svg\" alt=\"Open In Colab\"/></a>"
      ]
    },
    {
      "cell_type": "markdown",
      "metadata": {
        "id": "zdKPzBFnONsI"
      },
      "source": [
        "## **Linear Models**"
      ]
    },
    {
      "cell_type": "markdown",
      "metadata": {
        "id": "aW33UenKOMLQ"
      },
      "source": [
        "### **Linear models for classification**"
      ]
    },
    {
      "cell_type": "markdown",
      "metadata": {
        "id": "2jwxO0g7OawI"
      },
      "source": [
        "The formula for classification is similar to that of regression, but instead of returning weighted sum we threshold the value at zero. If the value less than 0 be predict it as class -1 or else we predict the class as +1. In classification, the *decision boundary* is a linear function of input, which can be a line for twtwo classes or hyperplan for multiclas.\n",
        "\n",
        "The algorithms differ in two ways, how well $w$ & $b$ fits the training data and what kind of regularization is used. Two most common algorithms are *Logistic Regression* and *linear support vector machines* "
      ]
    },
    {
      "cell_type": "code",
      "metadata": {
        "id": "ZHbk9ZZ_OHrR"
      },
      "source": [
        "import pandas as pd\n",
        "import numpy as np\n",
        "import matplotlib.pyplot as plt\n",
        "from sklearn.model_selection import train_test_split\n",
        "from sklearn.linear_model import LinearRegression"
      ],
      "execution_count": null,
      "outputs": []
    },
    {
      "cell_type": "markdown",
      "metadata": {
        "id": "ZUlyvvsgOeX3"
      },
      "source": [
        "The performance of classification is similar to that of regression in similar sinario like high dimentions large darapoitns etc, Both LR and SVC, by default uses L2 regularization. The parameter use for regularization is called **C**, this emphasis on finding a coefficient. Higher value of C can overfit the training data."
      ]
    },
    {
      "cell_type": "code",
      "metadata": {
        "id": "9JcqKjiUOezf"
      },
      "source": [
        "from sklearn.linear_model import LogisticRegression\n",
        "from sklearn.svm import LinearSVC"
      ],
      "execution_count": null,
      "outputs": []
    },
    {
      "cell_type": "markdown",
      "metadata": {
        "id": "2IVNcQ-POizv"
      },
      "source": [
        "### **Linear Model for multiclass classification**"
      ]
    },
    {
      "cell_type": "code",
      "metadata": {
        "id": "1dE30QccOmxX"
      },
      "source": [
        ""
      ],
      "execution_count": null,
      "outputs": []
    }
  ]
}