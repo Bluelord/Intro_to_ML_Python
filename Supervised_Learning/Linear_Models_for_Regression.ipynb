{
  "nbformat": 4,
  "nbformat_minor": 0,
  "metadata": {
    "colab": {
      "name": "Linear Models for Regression.ipynb",
      "provenance": [],
      "collapsed_sections": [],
      "authorship_tag": "ABX9TyOZWhcXDWA9MUZYmsi9gq/g",
      "include_colab_link": true
    },
    "kernelspec": {
      "name": "python3",
      "display_name": "Python 3"
    },
    "language_info": {
      "name": "python"
    }
  },
  "cells": [
    {
      "cell_type": "markdown",
      "metadata": {
        "id": "view-in-github",
        "colab_type": "text"
      },
      "source": [
        "<a href=\"https://colab.research.google.com/github/Bluelord/Intro_to_ML_Python_Notes/blob/master/Supervised_Learning/Linear_Models_for_Regression.ipynb\" target=\"_parent\"><img src=\"https://colab.research.google.com/assets/colab-badge.svg\" alt=\"Open In Colab\"/></a>"
      ]
    },
    {
      "cell_type": "markdown",
      "metadata": {
        "id": "0qegWlC-QNZG"
      },
      "source": [
        "### **Linear Models**"
      ]
    },
    {
      "cell_type": "markdown",
      "metadata": {
        "id": "2Qxunl4dQfnz"
      },
      "source": [
        "### **Linear model for regression**\n",
        "\n",
        "\n",
        "Linear models make a prediction using a *linear function* of the input features, for regression the general prediction formula is given as\n",
        "\n",
        "$ \\hat{y} = w[0]*x[0] +  w[1]*x[1] + ... + w[p]*x[p] + b$\n",
        "\n",
        "$x[0]$ to $x[p]$ are the **p** features of a single data points, $w$ & $b$ are parametes of the model that are learned and $\\hat{y}$ is the prediction. $w$ is slope along each features axis and $b$ is offset value. The predicted value is a weighted sum of the input features (weight as $w$).\n",
        "\n",
        "Linear Model can be chrecterized as regression model for which the predictions are in a line for single feature, a plane for two feature or a hyperplane fir higher dimentions. When we have many features, linear model can be powerful tool to predict the output, aspecially when there is more features than data points.There are different linear models for regression depanding upon how model parameters $w$ & $b$ are learned and how the model complexity can be controlled."
      ]
    },
    {
      "cell_type": "markdown",
      "metadata": {
        "id": "8JT5-E9bQ1sy"
      },
      "source": [
        "#### **Linear Regression (aka ordinary least squares)**\n",
        "\n",
        "In this the parameters $w$ & $b$ are found by minimizing the *mean sqare error* between prediction and the true regression target $y$ on training set. Linear Regression has no parameter to control the model complexity."
      ]
    },
    {
      "cell_type": "code",
      "metadata": {
        "id": "e2m7ToHRQ2YS",
        "colab": {
          "base_uri": "https://localhost:8080/"
        },
        "outputId": "d38ac923-659e-4123-c543-5aa5001fe9f0"
      },
      "source": [
        "import pandas as pd\n",
        "import numpy as np\n",
        "import matplotlib.pyplot as plt\n",
        "from sklearn.model_selection import train_test_split\n",
        "from sklearn.linear_model import LinearRegression\n",
        "from sklearn.datasets import make_regression\n",
        "# Generate features matrix, target vector, and the true coefficients\n",
        "X, y = make_regression(n_samples = 1500, n_features = 3, n_informative = 3,\n",
        "                                     n_targets = 1, noise = 70, random_state = 42)\n",
        "X_train, X_test, y_train, y_test = train_test_split(X, y, random_state=70)\n",
        "lr = LinearRegression()\n",
        "lr.fit(X_train, y_train)\n",
        "print(\"Linear Regression coefficients: {}\" .format(\n",
        "    lr.coef_))\n",
        "print(\"Liner Regression intercept: {}\" .format(\n",
        "    lr.intercept_))\n",
        "print(\"Training set score: {: .2f}\" .format(\n",
        "    lr.score(X_train, y_train)))\n",
        "print(\"Test set score: {: .2f}\" .format(\n",
        "    lr.score(X_test, y_test)))"
      ],
      "execution_count": null,
      "outputs": [
        {
          "output_type": "stream",
          "text": [
            "Linear Regression coefficients: [ 32.57113713  26.14391155 100.86277445]\n",
            "Liner Regression intercept: -4.6295875143597165\n",
            "Training set score:  0.71\n",
            "Test set score:  0.62\n"
          ],
          "name": "stdout"
        }
      ]
    },
    {
      "cell_type": "code",
      "metadata": {
        "colab": {
          "base_uri": "https://localhost:8080/"
        },
        "id": "IuAlcvBksCCz",
        "outputId": "5d3ff047-954c-4806-d43a-358c4cf5b92f"
      },
      "source": [
        "# mglearn to get extended boston dataset\n",
        "!pip install mglearn"
      ],
      "execution_count": null,
      "outputs": [
        {
          "output_type": "stream",
          "text": [
            "Requirement already satisfied: mglearn in /usr/local/lib/python3.7/dist-packages (0.1.9)\n",
            "Requirement already satisfied: pillow in /usr/local/lib/python3.7/dist-packages (from mglearn) (7.1.2)\n",
            "Requirement already satisfied: cycler in /usr/local/lib/python3.7/dist-packages (from mglearn) (0.10.0)\n",
            "Requirement already satisfied: joblib in /usr/local/lib/python3.7/dist-packages (from mglearn) (1.0.1)\n",
            "Requirement already satisfied: pandas in /usr/local/lib/python3.7/dist-packages (from mglearn) (1.1.5)\n",
            "Requirement already satisfied: imageio in /usr/local/lib/python3.7/dist-packages (from mglearn) (2.4.1)\n",
            "Requirement already satisfied: matplotlib in /usr/local/lib/python3.7/dist-packages (from mglearn) (3.2.2)\n",
            "Requirement already satisfied: numpy in /usr/local/lib/python3.7/dist-packages (from mglearn) (1.19.5)\n",
            "Requirement already satisfied: scikit-learn in /usr/local/lib/python3.7/dist-packages (from mglearn) (0.22.2.post1)\n",
            "Requirement already satisfied: six in /usr/local/lib/python3.7/dist-packages (from cycler->mglearn) (1.15.0)\n",
            "Requirement already satisfied: python-dateutil>=2.7.3 in /usr/local/lib/python3.7/dist-packages (from pandas->mglearn) (2.8.1)\n",
            "Requirement already satisfied: pytz>=2017.2 in /usr/local/lib/python3.7/dist-packages (from pandas->mglearn) (2018.9)\n",
            "Requirement already satisfied: kiwisolver>=1.0.1 in /usr/local/lib/python3.7/dist-packages (from matplotlib->mglearn) (1.3.1)\n",
            "Requirement already satisfied: pyparsing!=2.0.4,!=2.1.2,!=2.1.6,>=2.0.1 in /usr/local/lib/python3.7/dist-packages (from matplotlib->mglearn) (2.4.7)\n",
            "Requirement already satisfied: scipy>=0.17.0 in /usr/local/lib/python3.7/dist-packages (from scikit-learn->mglearn) (1.4.1)\n"
          ],
          "name": "stdout"
        }
      ]
    },
    {
      "cell_type": "code",
      "metadata": {
        "colab": {
          "base_uri": "https://localhost:8080/"
        },
        "id": "lEBgSyxr85Jh",
        "outputId": "11c08c61-53d2-47cf-b5f3-a161ea0f1d9b"
      },
      "source": [
        "# Generating 100 feature data (only 25 important features)\n",
        "import mglearn\n",
        "X, y = mglearn.datasets.load_extended_boston()\n",
        "X_train, X_test, y_train, y_test = train_test_split(X, y, random_state=42)\n",
        "lr = LinearRegression()\n",
        "lr.fit(X_train, y_train)\n",
        "print(\"Training set score: {: .2f}\" .format(\n",
        "    lr.score(X_train, y_train)))\n",
        "print(\"Test set score: {: .2f}\" .format(\n",
        "    lr.score(X_test, y_test)))"
      ],
      "execution_count": null,
      "outputs": [
        {
          "output_type": "stream",
          "text": [
            "Training set score:  0.94\n",
            "Test set score:  0.78\n"
          ],
          "name": "stdout"
        }
      ]
    },
    {
      "cell_type": "markdown",
      "metadata": {
        "id": "BO5FGck5Q_ST"
      },
      "source": [
        "At low feature number model is most likly to be underfitting,when number of features are very high there is a higher chance of overfitting. Thus when we find such overfitting case we have to fine a model in which wr can control the model complexity, such alternatives are Ridge Regression and LASSO."
      ]
    },
    {
      "cell_type": "markdown",
      "metadata": {
        "id": "BINyIQ0fRCfE"
      },
      "source": [
        "#### **Ridge Regression**\n",
        "\n",
        "In this type of linear model, complexity controlling parameter is added to the ordinary linear regression model. By adding this parameter, most of the coeficient $w$ should become close to zero, which mean the effect of features on the output will be as little ad possible, this effect is called ad regularization. This regularization avoids the model to get overfitted, this regression regularization is also called as *L2 regularization*."
      ]
    },
    {
      "cell_type": "code",
      "metadata": {
        "colab": {
          "base_uri": "https://localhost:8080/"
        },
        "id": "tUlWe7IdGAoy",
        "outputId": "90dcf305-e664-429e-8fd3-6494cf4b4925"
      },
      "source": [
        "# Generating 100 feature data (only 25 important features)\n",
        "from sklearn.linear_model import Ridge\n",
        "\n",
        "ridge = Ridge().fit(X_train, y_train)\n",
        "print(\"Training set score: {: .2f}\" .format(\n",
        "    ridge.score(X_train, y_train)))\n",
        "print(\"Test set score: {: .2f}\" .format(\n",
        "    ridge.score(X_test, y_test)))"
      ],
      "execution_count": null,
      "outputs": [
        {
          "output_type": "stream",
          "text": [
            "Training set score:  0.87\n",
            "Test set score:  0.81\n"
          ],
          "name": "stdout"
        }
      ]
    },
    {
      "cell_type": "code",
      "metadata": {
        "colab": {
          "base_uri": "https://localhost:8080/"
        },
        "id": "NNhZkCQxFx_L",
        "outputId": "420cde51-818d-45fd-efb9-624aae2515fd"
      },
      "source": [
        "\n",
        "ridge01 = Ridge(alpha=0.1).fit(X_train, y_train)\n",
        "print(\"Training set  for alpha 0.1: {: .2f}\" .format(\n",
        "    ridge01.score(X_train, y_train)))\n",
        "print(\"Test set score for alpha 0.1: {: .2f} \\n\" .format(\n",
        "    ridge01.score(X_test, y_test)))\n",
        "\n",
        "ridge001 = Ridge(alpha=0.01).fit(X_train, y_train)\n",
        "print(\"Training set score for alpha 0.01: {: .2f}\" .format(\n",
        "    ridge001.score(X_train, y_train)))\n",
        "print(\"Test set score for alpha 0.01: {: .2f} \\n\" .format(\n",
        "    ridge001.score(X_test, y_test)))\n",
        "\n",
        "ridge10 = Ridge(alpha=10).fit(X_train, y_train)\n",
        "print(\"Training set score for alpha 10: {: .2f}\" .format(\n",
        "    ridge10.score(X_train, y_train)))\n",
        "print(\"Test set score for alpha 10: {: .2f}\" .format(\n",
        "    ridge10.score(X_test, y_test)))"
      ],
      "execution_count": null,
      "outputs": [
        {
          "output_type": "stream",
          "text": [
            "Training set  for alpha 0.1:  0.92\n",
            "Test set score for alpha 0.1:  0.82 \n",
            "\n",
            "Training set score for alpha 0.01:  0.94\n",
            "Test set score for alpha 0.01:  0.81 \n",
            "\n",
            "Training set score for alpha 10:  0.77\n",
            "Test set score for alpha 10:  0.73\n"
          ],
          "name": "stdout"
        }
      ]
    },
    {
      "cell_type": "markdown",
      "metadata": {
        "id": "xEqt0sTARJhz"
      },
      "source": [
        "Ridge is more restricted model, so its less likly to overfit. Less complex model means worse performance on trainig but better generalization. Ridge model can make trade-off between the simplicity of model and its performance on training set by choosing the *alpha parameter*. This value depends on the dataset, inceasing *alpha* forces coefficients to move more towards zero and decreasing it will make model less restricted."
      ]
    },
    {
      "cell_type": "code",
      "metadata": {
        "id": "YCeTnmLxRLjh",
        "colab": {
          "base_uri": "https://localhost:8080/",
          "height": 278
        },
        "outputId": "9b0b3360-ecea-4487-fa9b-ca4f34eb754b"
      },
      "source": [
        "plt.plot(ridge.coef_, 's', label=\"Ridge alpha=1\")\n",
        "plt.plot(ridge10.coef_, '^', label=\"Ridge alpha=10\")\n",
        "plt.plot(ridge01.coef_, 'v', label=\"Ridge alpha=0.1\")\n",
        "plt.plot(lr.coef_, 'o', label=\"LinearRegression\")\n",
        "plt.xlabel(\"Coefficient index\")\n",
        "plt.ylabel(\"Coefficient magnitude\")\n",
        "plt.hlines(0, 0, len(lr.coef_))\n",
        "plt.ylim(-25, 25)\n",
        "plt.legend()\n",
        "plt.show()"
      ],
      "execution_count": null,
      "outputs": [
        {
          "output_type": "display_data",
          "data": {
            "image/png": "[encoded data removed]",
            "text/plain": [
              "<Figure size 432x288 with 1 Axes>"
            ]
          },
          "metadata": {
            "tags": [],
            "needs_background": "light"
          }
        }
      ]
    },
    {
      "cell_type": "markdown",
      "metadata": {
        "id": "m1pdaLisuBH0"
      },
      "source": [
        "We can also understand the influence of regularization by fixing the alpha value and changing the size of samples of dataset. mglearns provides the plot which shows performance as a function of data size called learning curves. The plot shows the learning curves for ridge regression and linear regression on the Boston Housing dataset.\n",
        "\n",
        "As expected training score is higher than the test set for all the dataset size. since the ridge is regularized the training score is low in ridge than linear regression. For low datasize LR is not able to learn better, but due to regularization Ridge learn better as the data size to certain value the performance LR catches up with Ridge. With enough dataset size regularization become less important and both gives same score for test set."
      ]
    },
    {
      "cell_type": "code",
      "metadata": {
        "colab": {
          "base_uri": "https://localhost:8080/",
          "height": 324
        },
        "id": "sTeQxYLhurQK",
        "outputId": "dddc3212-6637-4874-a6bc-824232675da4"
      },
      "source": [
        "mglearn.plots.plot_ridge_n_samples()"
      ],
      "execution_count": null,
      "outputs": [
        {
          "output_type": "display_data",
          "data": {
            "image/png": "[encoded data removed]",
            "text/plain": [
              "<Figure size 432x288 with 1 Axes>"
            ]
          },
          "metadata": {
            "tags": [],
            "needs_background": "light"
          }
        }
      ]
    },
    {
      "cell_type": "markdown",
      "metadata": {
        "id": "bxu3UCKiRMAB"
      },
      "source": [
        "#### **LASSO**\n",
        "\n",
        "LASSO regression also restrict the coefficients, it is also called as *L1 regularization*. While using Lasso regression we are expected taht some of the coefficients hets exactly zero, which means this features are entirly ignored by the model. We can also consider LASSO as a form of automatic feature selection model."
      ]
    },
    {
      "cell_type": "code",
      "metadata": {
        "id": "iw42T5FURWp1",
        "colab": {
          "base_uri": "https://localhost:8080/"
        },
        "outputId": "d6fd3e59-f43e-42e9-d142-8d8e28c0e852"
      },
      "source": [
        "from sklearn.linear_model import Lasso\n",
        "lasso = Lasso().fit(X_train, y_train)\n",
        "print(\"Training set score : {:.2f}\".format(lasso.score(X_train, y_train)))\n",
        "print(\"Test set score: {:.2f}\".format(lasso.score(X_test, y_test)))\n",
        "print(\"Number of features used: {}\".format(np.sum(lasso.coef_ != 0)))"
      ],
      "execution_count": null,
      "outputs": [
        {
          "output_type": "stream",
          "text": [
            "Training set score : 0.27\n",
            "Test set score: 0.26\n",
            "Number of features used: 3\n"
          ],
          "name": "stdout"
        }
      ]
    },
    {
      "cell_type": "code",
      "metadata": {
        "colab": {
          "base_uri": "https://localhost:8080/"
        },
        "id": "oOAvJCnPyuk0",
        "outputId": "c4f64b36-c666-4962-95bb-c203bcf1db30"
      },
      "source": [
        "# To reduce underfitting, we can try decreasing alpha and increase max_iter\n",
        "# otherwise the model would warn us that we should increase max_iter.\n",
        "\n",
        "lasso01 = Lasso(alpha=0.1, max_iter=100000).fit(X_train, y_train)\n",
        "print(\"Training set score for alpha 0.1: {:.2f}\".format(lasso01.score(X_train, y_train)))\n",
        "print(\"Test set score for alpha 0.1: {:.2f}\".format(lasso01.score(X_test, y_test)))\n",
        "print(\"Number of features used for alpha 0.1: {}\\n\".format(np.sum(lasso01.coef_ != 0)))\n",
        "\n",
        "lasso001 = Lasso(alpha=0.01, max_iter=100000).fit(X_train, y_train)\n",
        "print(\"Training set score for alpha 0.01: {:.2f}\".format(lasso001.score(X_train, y_train)))\n",
        "print(\"Test set score for alpha 0.01: {:.2f}\".format(lasso001.score(X_test, y_test)))\n",
        "print(\"Number of features used for alpha 0.01: {}\\n\".format(np.sum(lasso001.coef_ != 0)))\n",
        "\n",
        "lasso0001 = Lasso(alpha=0.001, max_iter=100000).fit(X_train, y_train)\n",
        "print(\"Training set score for alpha 0.001: {:.2f}\".format(lasso0001.score(X_train, y_train)))\n",
        "print(\"Test set score for alpha 0.001: {:.2f}\".format(lasso0001.score(X_test, y_test)))\n",
        "print(\"Number of features used for alpha 0.001: {}\\n\".format(np.sum(lasso0001.coef_ != 0)))\n",
        "\n",
        "lasso000001 = Lasso(alpha=0.00001, max_iter=500000).fit(X_train, y_train)\n",
        "print(\"Training set score for alpha 0.0001: {:.2f}\".format(lasso000001.score(X_train, y_train)))\n",
        "print(\"Test set score for alpha 0.0001: {:.2f}\".format(lasso000001.score(X_test, y_test)))\n",
        "print(\"Number of features used for alpha 0.0001: {}\".format(np.sum(lasso000001.coef_ != 0)))"
      ],
      "execution_count": null,
      "outputs": [
        {
          "output_type": "stream",
          "text": [
            "Training set score for alpha 0.1: 0.75\n",
            "Test set score for alpha 0.1: 0.70\n",
            "Number of features used for alpha 0.1: 12\n",
            "\n",
            "Training set score for alpha 0.01: 0.89\n",
            "Test set score for alpha 0.01: 0.80\n",
            "Number of features used for alpha 0.01: 34\n",
            "\n",
            "Training set score for alpha 0.001: 0.93\n",
            "Test set score for alpha 0.001: 0.82\n",
            "Number of features used for alpha 0.001: 73\n",
            "\n",
            "Training set score for alpha 0.0001: 0.94\n",
            "Test set score for alpha 0.0001: 0.78\n",
            "Number of features used for alpha 0.0001: 100\n"
          ],
          "name": "stdout"
        }
      ]
    },
    {
      "cell_type": "markdown",
      "metadata": {
        "id": "u-0vDbDEMMX_"
      },
      "source": [
        "For alpha=1, we not only see that most of the coefficients are zero, but that the remaining coefficients are also small in magnitude and we may also get underfitted model. Decreasing the alpha, we can see more feature are used as well as the performace increases,but as we decrease alpha more more features are selected and model gets overfitted and we get the unregularized mosel too. thus we must have to select the alpha value in between to get optimal result."
      ]
    },
    {
      "cell_type": "code",
      "metadata": {
        "colab": {
          "base_uri": "https://localhost:8080/",
          "height": 341
        },
        "id": "AyeJ6Ed0y2yT",
        "outputId": "6dc41ce3-a5cc-4632-9a61-e1368fec8ffd"
      },
      "source": [
        "plt.plot(lasso.coef_, 's', label=\"Lasso alpha=1\")\n",
        "plt.plot(lasso001.coef_, '^', label=\"Lasso alpha=0.01\")\n",
        "plt.plot(lasso000001.coef_, 'v', label=\"Lasso alpha=0.00001\")\n",
        "plt.plot(ridge01.coef_, 'o', label=\"Ridge alpha=0.1\")\n",
        "plt.legend(ncol=2, loc=(0, 1.05))\n",
        "plt.ylim(-25, 25)\n",
        "plt.xlabel(\"Coefficient index\")\n",
        "plt.ylabel(\"Coefficient magnitude\")"
      ],
      "execution_count": null,
      "outputs": [
        {
          "output_type": "execute_result",
          "data": {
            "text/plain": [
              "Text(0, 0.5, 'Coefficient magnitude')"
            ]
          },
          "metadata": {
            "tags": []
          },
          "execution_count": 48
        },
        {
          "output_type": "display_data",
          "data": {
            "image/png": "[encoded data removed]",
            "text/plain": [
              "<Figure size 432x288 with 1 Axes>"
            ]
          },
          "metadata": {
            "tags": [],
            "needs_background": "light"
          }
        }
      ]
    },
    {
      "cell_type": "markdown",
      "metadata": {
        "id": "zX4_msOCRXRT"
      },
      "source": [
        "In practice, Ridge is the first choice and if we are expect only few feature from the large feature dataset then LASSO is the best choice. scikit has **ElasticNet class* which combines the penalties (regularization term) of Lasso and Ridge, which works best at the price of tuning two parameters, L1 & L2 regularuzations to adjest."
      ]
    }
  ]
}