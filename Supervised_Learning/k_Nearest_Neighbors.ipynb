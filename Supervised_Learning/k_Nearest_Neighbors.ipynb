{
  "nbformat": 4,
  "nbformat_minor": 0,
  "metadata": {
    "colab": {
      "name": "k-Nearest Neighbors.ipynb",
      "provenance": [],
      "collapsed_sections": [],
      "authorship_tag": "ABX9TyNGh0Jp4zHWgEoailAAa5b+",
      "include_colab_link": true
    },
    "kernelspec": {
      "name": "python3",
      "display_name": "Python 3"
    },
    "language_info": {
      "name": "python"
    }
  },
  "cells": [
    {
      "cell_type": "markdown",
      "metadata": {
        "id": "view-in-github",
        "colab_type": "text"
      },
      "source": [
        "<a href=\"https://colab.research.google.com/github/Bluelord/Intro_to_ML_Python_Notes/blob/master/Supervised_Learning/k_Nearest_Neighbors.ipynb\" target=\"_parent\"><img src=\"https://colab.research.google.com/assets/colab-badge.svg\" alt=\"Open In Colab\"/></a>"
      ]
    },
    {
      "cell_type": "code",
      "metadata": {
        "id": "9WD8CbXILyPO"
      },
      "source": [
        "pip install mglearn"
      ],
      "execution_count": null,
      "outputs": []
    },
    {
      "cell_type": "markdown",
      "metadata": {
        "id": "Fs-4rW27Oopj"
      },
      "source": [
        "### **k-Nearest Neighbors**\n",
        "---\n",
        "\n",
        "This model consists of sorting the training data to predict the new data point from the closest data point in the traing dataset (nearest neighbours).\n"
      ]
    },
    {
      "cell_type": "markdown",
      "metadata": {
        "id": "6GvyZ5WPO6Mr"
      },
      "source": [
        "#### **k-Neighbors classification**\n",
        "\n",
        "In this we consider **k** number of nearest neighbours and uses voting to assign the class for the test data, which means majority class among the k-nearest neighbours will be assigned label to the test data.\n",
        "\n",
        "Following exampl shows the use of three cloest neighbours.\n",
        ".\n"
      ]
    },
    {
      "cell_type": "code",
      "metadata": {
        "id": "bPPSlQ2tOeNs",
        "colab": {
          "base_uri": "https://localhost:8080/"
        },
        "outputId": "35655de2-1247-49d7-8262-593f91ed2141"
      },
      "source": [
        "# Imorting Libraries\n",
        "import numpy as np\n",
        "import pandas as pd\n",
        "import matplotlib.pyplot as plt\n",
        "from sklearn.datasets import make_classification\n",
        "from sklearn.model_selection import train_test_split\n",
        "from sklearn.neighbors import KNeighborsClassifier\n",
        "\n",
        "# Creating Simulated Dataset\n",
        "X, y = make_classification(n_samples = 100, n_features = 3, n_informative = 3,\n",
        "                                        n_redundant = 0, n_classes = 2, weights = [0.3,0.7], random_state = 1)\n",
        "# Spliting the dataset\n",
        "X_train, X_test, y_train, y_test = train_test_split(X, y, random_state = 0)\n",
        "# Building & fitting KNN classification modwl to trainig set with k = 3\n",
        "KNNc  = KNeighborsClassifier(n_neighbors = 3)\n",
        "KNNc.fit(X_train, y_train)\n",
        "# Pridicting  the labels\n",
        "print(\"Test set predictions: {}\" \n",
        "      .format(KNNc.predict(X_test)))\n",
        "# Accuracy for the prediction\n",
        "print(\"Test set accuracy: {: .2f}\" \n",
        "      .format(KNNc.score(X_test, y_test)))"
      ],
      "execution_count": 1,
      "outputs": [
        {
          "output_type": "stream",
          "text": [
            "Test set predictions: [0 0 0 1 1 1 1 0 1 1 1 0 1 1 1 1 1 1 0 1 0 0 1 1 1]\n",
            "Test set accuracy:  0.92\n"
          ],
          "name": "stdout"
        }
      ]
    },
    {
      "cell_type": "markdown",
      "metadata": {
        "id": "cosmLeRAPFgT"
      },
      "source": [
        "**Analyzing K-Neighbour Classifier**\n",
        "\n",
        "Considering more and more neighbours corresponds to a simpler model. Considering the extreme cases where number of **k** is same as data points in training set, then each test point will have same as the class in training set (underfitting / high bias). Below figure gives an idea that smoother bounder corresponds to a simpler model.\n",
        "![](https://github.com/Bluelord/Intro_to_ML_Python_Notes/blob/9d20722ef75b0ba251f4af3a4392643b4a7b750d/Images/nearest%20neighbors%20model%20for%20different%20values.JPG)\n"
      ]
    },
    {
      "cell_type": "code",
      "metadata": {
        "id": "TciK6mHVPEuD",
        "colab": {
          "base_uri": "https://localhost:8080/",
          "height": 280
        },
        "outputId": "f0ac46ac-577d-4f62-ea2c-7effc014a2ed"
      },
      "source": [
        "import numpy as np\n",
        "import pandas as pd\n",
        "import matplotlib.pyplot as plt\n",
        "from sklearn.neighbors import KNeighborsClassifier\n",
        "from sklearn.datasets import load_breast_cancer\n",
        "from  sklearn.model_selection import train_test_split\n",
        "cancer = load_breast_cancer()\n",
        "X_train, X_test, y_train, y_test = train_test_split(\n",
        "    cancer.data, cancer.target, stratify = cancer.target, random_state=70)\n",
        "\n",
        "training_accuracy = []\n",
        "test_accuracy = []\n",
        "neighbors_setting = range(1,11)\n",
        "for n_neighbors in neighbors_setting:\n",
        "  KNNc = KNeighborsClassifier(n_neighbors = n_neighbors)\n",
        "  KNNc.fit(X_train, y_train)\n",
        "\n",
        "  training_accuracy.append(KNNc.score(X_train, y_train))\n",
        "  test_accuracy.append(KNNc.score(X_test, y_test))\n",
        "\n",
        "plt.plot(neighbors_setting, training_accuracy, label = \"training accuracy\")\n",
        "plt.plot(neighbors_setting, test_accuracy, label = \"test accuracy\")\n",
        "plt.ylabel(\"Accuracy\")\n",
        "plt.xlabel(\"n_neighbors\")\n",
        "plt.legend()\n",
        "plt.show()"
      ],
      "execution_count": 15,
      "outputs": [
        {
          "output_type": "display_data",
          "data": {
            "image/png": "[encoded data removed]",
            "text/plain": [
              "<Figure size 432x288 with 1 Axes>"
            ]
          },
          "metadata": {
            "tags": [],
            "needs_background": "light"
          }
        }
      ]
    },
    {
      "cell_type": "markdown",
      "metadata": {
        "id": "qz1X0PT5POPE"
      },
      "source": [
        "The plot shows that at low **k** value model overfits the training set and has low testing accuracy. As we increase **k** value our model become simpler and the testing accuracy increases. But at very high **k** value our model become too simple and it perform the worse, we will fund the best performance in the middle of the range."
      ]
    },
    {
      "cell_type": "markdown",
      "metadata": {
        "id": "Zn98DBN5QP6A"
      },
      "source": [
        "\n",
        "\n",
        "---\n"
      ]
    },
    {
      "cell_type": "markdown",
      "metadata": {
        "id": "KNQIaimsPVK0"
      },
      "source": [
        "#### **k-neighbours regression**\n",
        "\n",
        "In the with k neighbours, multiple nearest values are found for the test data from the training, the mean of this values are considered to be the prediction for the test data point.\n"
      ]
    },
    {
      "cell_type": "code",
      "metadata": {
        "id": "TwY-klAiPZAa"
      },
      "source": [
        "from sklearn.neighbors import KNeighborsRegressor"
      ],
      "execution_count": null,
      "outputs": []
    },
    {
      "cell_type": "markdown",
      "metadata": {
        "id": "e69fkuNvPckr"
      },
      "source": [
        "**Analyzing K-Nebhours Regressor**\n",
        "\n",
        "Here from the figure we can observe that when k value is low our prediction of test is low and it overfits on training data. As we increase k value to very high it leads to smoother prediction, but these do not fit the training data as well. Thus the k value should we in between so that it fits both training and test data."
      ]
    },
    {
      "cell_type": "code",
      "metadata": {
        "id": "Xu85DAn7Pj4r"
      },
      "source": [
        ""
      ],
      "execution_count": null,
      "outputs": []
    },
    {
      "cell_type": "markdown",
      "metadata": {
        "id": "huAHbDR4PkLT"
      },
      "source": [
        "#### **Strengths, weaknesses and parameters**\n",
        "\n",
        "* In practic, there are two impotant parameters to KNeighbours Classifiers, one is **k value** and other is how we measure the distanse between data points (By default, Euclidean distance is used and there are many other measure can be used).\n",
        "\n",
        "* One of the strength of KNN is that the it is very easy to understand and also gives reasonable performance without a lot of tuning of the parameters. * When our dataset is very large (either large number of features or sampels numbers) prediction is slow. This model also perform badly when we have sparse datasets (0 most of the time)."
      ]
    }
  ]
}